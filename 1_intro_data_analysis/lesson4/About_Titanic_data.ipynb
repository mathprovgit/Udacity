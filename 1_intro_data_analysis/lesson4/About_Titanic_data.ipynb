{
 "cells": [
  {
   "cell_type": "markdown",
   "metadata": {},
   "source": [
    "# Analysing Titanic passenger information"
   ]
  },
  {
   "cell_type": "markdown",
   "metadata": {},
   "source": [
    "## Intro do Data Analysis - Lesson4"
   ]
  },
  {
   "cell_type": "markdown",
   "metadata": {},
   "source": [
    "### interesting links\n",
    "    - about the data:\n",
    "        http://blog.kaggle.com/2016/06/29/communicating-data-science-a-guide-to-presenting-your-work/\n",
    "        \n",
    "    - about the titanic:\n",
    "        https://www.encyclopedia-titanica.org/titanic-passenger-list/\n",
    "        https://en.wikipedia.org/wiki/RMS_Titanic\n",
    "    \n",
    "    - about report of data analysis:\n",
    "        https://career-resource-center.udacity.com/portfolio/data-science-reports\n",
    "        http://blog.kaggle.com/2016/06/29/communicating-data-science-a-guide-to-presenting-your-work/\n",
    "    \n",
    "    - about the df.plot():\n",
    "        http://queirozf.com/entries/pandas-dataframe-plot-examples-with-matplotlib-pyplot\n",
    "        \n",
    "      \n",
    "        "
   ]
  },
  {
   "cell_type": "markdown",
   "metadata": {},
   "source": [
    "### comments-ideas:\n",
    "    number of passengers in the csv file 891 but in titanic 1350 (vary depending of the sources)\n",
    "    \n",
    "    "
   ]
  },
  {
   "cell_type": "markdown",
   "metadata": {},
   "source": [
    "### Problematique : Question about the data\n",
    "    1 What is the passenger surviving rate ? (new technology safe ?)\n",
    "    2 Statistics about passenger age? (distribution)\n",
    "    3 Are women more likly to survive than men ? (titanic the movie)\n",
    "    4 Are rich more likly to survive ? (first class to rest and second class to third)\n",
    "    5 What are the most impact variables on the survivinge rate of the titanic passengers? \n",
    "    6 Anything else ?\n",
    "    "
   ]
  },
  {
   "cell_type": "markdown",
   "metadata": {},
   "source": [
    "#### import requiered packages"
   ]
  },
  {
   "cell_type": "code",
   "execution_count": 3,
   "metadata": {},
   "outputs": [],
   "source": [
    "import pandas as pd\n",
    "import numpy as np\n",
    "import matplotlib.pyplot as plt\n",
    "import seaborn as sns\n",
    "import math"
   ]
  },
  {
   "cell_type": "markdown",
   "metadata": {},
   "source": [
    "#### Open csv file and check some values"
   ]
  },
  {
   "cell_type": "code",
   "execution_count": 4,
   "metadata": {},
   "outputs": [
    {
     "name": "stdout",
     "output_type": "stream",
     "text": [
      "there is 891 rows and 12 cols in this df\n"
     ]
    },
    {
     "data": {
      "text/html": [
       "<div>\n",
       "<style scoped>\n",
       "    .dataframe tbody tr th:only-of-type {\n",
       "        vertical-align: middle;\n",
       "    }\n",
       "\n",
       "    .dataframe tbody tr th {\n",
       "        vertical-align: top;\n",
       "    }\n",
       "\n",
       "    .dataframe thead th {\n",
       "        text-align: right;\n",
       "    }\n",
       "</style>\n",
       "<table border=\"1\" class=\"dataframe\">\n",
       "  <thead>\n",
       "    <tr style=\"text-align: right;\">\n",
       "      <th></th>\n",
       "      <th>PassengerId</th>\n",
       "      <th>Survived</th>\n",
       "      <th>Pclass</th>\n",
       "      <th>Name</th>\n",
       "      <th>Sex</th>\n",
       "      <th>Age</th>\n",
       "      <th>SibSp</th>\n",
       "      <th>Parch</th>\n",
       "      <th>Ticket</th>\n",
       "      <th>Fare</th>\n",
       "      <th>Cabin</th>\n",
       "      <th>Embarked</th>\n",
       "    </tr>\n",
       "  </thead>\n",
       "  <tbody>\n",
       "    <tr>\n",
       "      <td>0</td>\n",
       "      <td>1</td>\n",
       "      <td>0</td>\n",
       "      <td>3</td>\n",
       "      <td>Braund, Mr. Owen Harris</td>\n",
       "      <td>male</td>\n",
       "      <td>22.0</td>\n",
       "      <td>1</td>\n",
       "      <td>0</td>\n",
       "      <td>A/5 21171</td>\n",
       "      <td>7.2500</td>\n",
       "      <td>NaN</td>\n",
       "      <td>S</td>\n",
       "    </tr>\n",
       "    <tr>\n",
       "      <td>1</td>\n",
       "      <td>2</td>\n",
       "      <td>1</td>\n",
       "      <td>1</td>\n",
       "      <td>Cumings, Mrs. John Bradley (Florence Briggs Th...</td>\n",
       "      <td>female</td>\n",
       "      <td>38.0</td>\n",
       "      <td>1</td>\n",
       "      <td>0</td>\n",
       "      <td>PC 17599</td>\n",
       "      <td>71.2833</td>\n",
       "      <td>C85</td>\n",
       "      <td>C</td>\n",
       "    </tr>\n",
       "    <tr>\n",
       "      <td>2</td>\n",
       "      <td>3</td>\n",
       "      <td>1</td>\n",
       "      <td>3</td>\n",
       "      <td>Heikkinen, Miss. Laina</td>\n",
       "      <td>female</td>\n",
       "      <td>26.0</td>\n",
       "      <td>0</td>\n",
       "      <td>0</td>\n",
       "      <td>STON/O2. 3101282</td>\n",
       "      <td>7.9250</td>\n",
       "      <td>NaN</td>\n",
       "      <td>S</td>\n",
       "    </tr>\n",
       "    <tr>\n",
       "      <td>3</td>\n",
       "      <td>4</td>\n",
       "      <td>1</td>\n",
       "      <td>1</td>\n",
       "      <td>Futrelle, Mrs. Jacques Heath (Lily May Peel)</td>\n",
       "      <td>female</td>\n",
       "      <td>35.0</td>\n",
       "      <td>1</td>\n",
       "      <td>0</td>\n",
       "      <td>113803</td>\n",
       "      <td>53.1000</td>\n",
       "      <td>C123</td>\n",
       "      <td>S</td>\n",
       "    </tr>\n",
       "    <tr>\n",
       "      <td>4</td>\n",
       "      <td>5</td>\n",
       "      <td>0</td>\n",
       "      <td>3</td>\n",
       "      <td>Allen, Mr. William Henry</td>\n",
       "      <td>male</td>\n",
       "      <td>35.0</td>\n",
       "      <td>0</td>\n",
       "      <td>0</td>\n",
       "      <td>373450</td>\n",
       "      <td>8.0500</td>\n",
       "      <td>NaN</td>\n",
       "      <td>S</td>\n",
       "    </tr>\n",
       "  </tbody>\n",
       "</table>\n",
       "</div>"
      ],
      "text/plain": [
       "   PassengerId  Survived  Pclass  \\\n",
       "0            1         0       3   \n",
       "1            2         1       1   \n",
       "2            3         1       3   \n",
       "3            4         1       1   \n",
       "4            5         0       3   \n",
       "\n",
       "                                                Name     Sex   Age  SibSp  \\\n",
       "0                            Braund, Mr. Owen Harris    male  22.0      1   \n",
       "1  Cumings, Mrs. John Bradley (Florence Briggs Th...  female  38.0      1   \n",
       "2                             Heikkinen, Miss. Laina  female  26.0      0   \n",
       "3       Futrelle, Mrs. Jacques Heath (Lily May Peel)  female  35.0      1   \n",
       "4                           Allen, Mr. William Henry    male  35.0      0   \n",
       "\n",
       "   Parch            Ticket     Fare Cabin Embarked  \n",
       "0      0         A/5 21171   7.2500   NaN        S  \n",
       "1      0          PC 17599  71.2833   C85        C  \n",
       "2      0  STON/O2. 3101282   7.9250   NaN        S  \n",
       "3      0            113803  53.1000  C123        S  \n",
       "4      0            373450   8.0500   NaN        S  "
      ]
     },
     "execution_count": 4,
     "metadata": {},
     "output_type": "execute_result"
    }
   ],
   "source": [
    "file_name='titanic_data.csv'\n",
    "full_path=file_name\n",
    "titanic_df=pd.read_csv(full_path)\n",
    "num_row,num_col=titanic_df.shape\n",
    "print('there is {} rows and {} cols in this df'.format(num_row,num_col))\n",
    "titanic_df.head()\n"
   ]
  },
  {
   "cell_type": "markdown",
   "metadata": {},
   "source": [
    "#### split names\n",
    "    Name -> Name, FName and MrsName"
   ]
  },
  {
   "cell_type": "code",
   "execution_count": 5,
   "metadata": {},
   "outputs": [],
   "source": [
    "name_df=titanic_df.Name.str.replace('(',',').str.replace(')','').str.split(',',expand=True)\n",
    "titanic_df['Name']=name_df[0]\n",
    "titanic_df['Fname']=name_df[1]\n",
    "titanic_df['Mname']=name_df[2]\n"
   ]
  },
  {
   "cell_type": "code",
   "execution_count": 6,
   "metadata": {},
   "outputs": [
    {
     "data": {
      "text/html": [
       "<div>\n",
       "<style scoped>\n",
       "    .dataframe tbody tr th:only-of-type {\n",
       "        vertical-align: middle;\n",
       "    }\n",
       "\n",
       "    .dataframe tbody tr th {\n",
       "        vertical-align: top;\n",
       "    }\n",
       "\n",
       "    .dataframe thead th {\n",
       "        text-align: right;\n",
       "    }\n",
       "</style>\n",
       "<table border=\"1\" class=\"dataframe\">\n",
       "  <thead>\n",
       "    <tr style=\"text-align: right;\">\n",
       "      <th></th>\n",
       "      <th>PassengerId</th>\n",
       "      <th>Survived</th>\n",
       "      <th>Pclass</th>\n",
       "      <th>Name</th>\n",
       "      <th>Sex</th>\n",
       "      <th>Age</th>\n",
       "      <th>SibSp</th>\n",
       "      <th>Parch</th>\n",
       "      <th>Ticket</th>\n",
       "      <th>Fare</th>\n",
       "      <th>Cabin</th>\n",
       "      <th>Embarked</th>\n",
       "      <th>Fname</th>\n",
       "      <th>Mname</th>\n",
       "    </tr>\n",
       "  </thead>\n",
       "  <tbody>\n",
       "    <tr>\n",
       "      <td>3</td>\n",
       "      <td>4</td>\n",
       "      <td>1</td>\n",
       "      <td>1</td>\n",
       "      <td>Futrelle</td>\n",
       "      <td>female</td>\n",
       "      <td>35.0</td>\n",
       "      <td>1</td>\n",
       "      <td>0</td>\n",
       "      <td>113803</td>\n",
       "      <td>53.1</td>\n",
       "      <td>C123</td>\n",
       "      <td>S</td>\n",
       "      <td>Mrs. Jacques Heath</td>\n",
       "      <td>Lily May Peel</td>\n",
       "    </tr>\n",
       "    <tr>\n",
       "      <td>137</td>\n",
       "      <td>138</td>\n",
       "      <td>0</td>\n",
       "      <td>1</td>\n",
       "      <td>Futrelle</td>\n",
       "      <td>male</td>\n",
       "      <td>37.0</td>\n",
       "      <td>1</td>\n",
       "      <td>0</td>\n",
       "      <td>113803</td>\n",
       "      <td>53.1</td>\n",
       "      <td>C123</td>\n",
       "      <td>S</td>\n",
       "      <td>Mr. Jacques Heath</td>\n",
       "      <td>None</td>\n",
       "    </tr>\n",
       "  </tbody>\n",
       "</table>\n",
       "</div>"
      ],
      "text/plain": [
       "     PassengerId  Survived  Pclass      Name     Sex   Age  SibSp  Parch  \\\n",
       "3              4         1       1  Futrelle  female  35.0      1      0   \n",
       "137          138         0       1  Futrelle    male  37.0      1      0   \n",
       "\n",
       "     Ticket  Fare Cabin Embarked                 Fname          Mname  \n",
       "3    113803  53.1  C123        S   Mrs. Jacques Heath   Lily May Peel  \n",
       "137  113803  53.1  C123        S     Mr. Jacques Heath           None  "
      ]
     },
     "execution_count": 6,
     "metadata": {},
     "output_type": "execute_result"
    }
   ],
   "source": [
    "titanic_df[titanic_df['Name']=='Futrelle']"
   ]
  },
  {
   "cell_type": "code",
   "execution_count": 7,
   "metadata": {},
   "outputs": [
    {
     "data": {
      "text/html": [
       "<div>\n",
       "<style scoped>\n",
       "    .dataframe tbody tr th:only-of-type {\n",
       "        vertical-align: middle;\n",
       "    }\n",
       "\n",
       "    .dataframe tbody tr th {\n",
       "        vertical-align: top;\n",
       "    }\n",
       "\n",
       "    .dataframe thead th {\n",
       "        text-align: right;\n",
       "    }\n",
       "</style>\n",
       "<table border=\"1\" class=\"dataframe\">\n",
       "  <thead>\n",
       "    <tr style=\"text-align: right;\">\n",
       "      <th></th>\n",
       "      <th>PassengerId</th>\n",
       "      <th>Survived</th>\n",
       "      <th>Pclass</th>\n",
       "      <th>Name</th>\n",
       "      <th>Sex</th>\n",
       "      <th>Age</th>\n",
       "      <th>SibSp</th>\n",
       "      <th>Parch</th>\n",
       "      <th>Ticket</th>\n",
       "      <th>Fare</th>\n",
       "      <th>Cabin</th>\n",
       "      <th>Embarked</th>\n",
       "      <th>Fname</th>\n",
       "      <th>Mname</th>\n",
       "    </tr>\n",
       "  </thead>\n",
       "  <tbody>\n",
       "    <tr>\n",
       "      <td>7</td>\n",
       "      <td>8</td>\n",
       "      <td>0</td>\n",
       "      <td>3</td>\n",
       "      <td>Palsson</td>\n",
       "      <td>male</td>\n",
       "      <td>2.0</td>\n",
       "      <td>3</td>\n",
       "      <td>1</td>\n",
       "      <td>349909</td>\n",
       "      <td>21.075</td>\n",
       "      <td>NaN</td>\n",
       "      <td>S</td>\n",
       "      <td>Master. Gosta Leonard</td>\n",
       "      <td>None</td>\n",
       "    </tr>\n",
       "    <tr>\n",
       "      <td>24</td>\n",
       "      <td>25</td>\n",
       "      <td>0</td>\n",
       "      <td>3</td>\n",
       "      <td>Palsson</td>\n",
       "      <td>female</td>\n",
       "      <td>8.0</td>\n",
       "      <td>3</td>\n",
       "      <td>1</td>\n",
       "      <td>349909</td>\n",
       "      <td>21.075</td>\n",
       "      <td>NaN</td>\n",
       "      <td>S</td>\n",
       "      <td>Miss. Torborg Danira</td>\n",
       "      <td>None</td>\n",
       "    </tr>\n",
       "    <tr>\n",
       "      <td>374</td>\n",
       "      <td>375</td>\n",
       "      <td>0</td>\n",
       "      <td>3</td>\n",
       "      <td>Palsson</td>\n",
       "      <td>female</td>\n",
       "      <td>3.0</td>\n",
       "      <td>3</td>\n",
       "      <td>1</td>\n",
       "      <td>349909</td>\n",
       "      <td>21.075</td>\n",
       "      <td>NaN</td>\n",
       "      <td>S</td>\n",
       "      <td>Miss. Stina Viola</td>\n",
       "      <td>None</td>\n",
       "    </tr>\n",
       "    <tr>\n",
       "      <td>567</td>\n",
       "      <td>568</td>\n",
       "      <td>0</td>\n",
       "      <td>3</td>\n",
       "      <td>Palsson</td>\n",
       "      <td>female</td>\n",
       "      <td>29.0</td>\n",
       "      <td>0</td>\n",
       "      <td>4</td>\n",
       "      <td>349909</td>\n",
       "      <td>21.075</td>\n",
       "      <td>NaN</td>\n",
       "      <td>S</td>\n",
       "      <td>Mrs. Nils</td>\n",
       "      <td>Alma Cornelia Berglund</td>\n",
       "    </tr>\n",
       "  </tbody>\n",
       "</table>\n",
       "</div>"
      ],
      "text/plain": [
       "     PassengerId  Survived  Pclass     Name     Sex   Age  SibSp  Parch  \\\n",
       "7              8         0       3  Palsson    male   2.0      3      1   \n",
       "24            25         0       3  Palsson  female   8.0      3      1   \n",
       "374          375         0       3  Palsson  female   3.0      3      1   \n",
       "567          568         0       3  Palsson  female  29.0      0      4   \n",
       "\n",
       "     Ticket    Fare Cabin Embarked                   Fname  \\\n",
       "7    349909  21.075   NaN        S   Master. Gosta Leonard   \n",
       "24   349909  21.075   NaN        S    Miss. Torborg Danira   \n",
       "374  349909  21.075   NaN        S       Miss. Stina Viola   \n",
       "567  349909  21.075   NaN        S              Mrs. Nils    \n",
       "\n",
       "                      Mname  \n",
       "7                      None  \n",
       "24                     None  \n",
       "374                    None  \n",
       "567  Alma Cornelia Berglund  "
      ]
     },
     "execution_count": 7,
     "metadata": {},
     "output_type": "execute_result"
    }
   ],
   "source": [
    "titanic_df[titanic_df['Name']=='Palsson']"
   ]
  },
  {
   "cell_type": "markdown",
   "metadata": {},
   "source": [
    "#### 1: Surviving rate on the RMS Titanic"
   ]
  },
  {
   "cell_type": "code",
   "execution_count": 8,
   "metadata": {},
   "outputs": [
    {
     "name": "stdout",
     "output_type": "stream",
     "text": [
      "The surving rate on the RMS Titanic is about 38.4% -> 342 survivors / 891 passengers\n",
      "The death rate on the RMS Titanic is about 61.6%-> 549 survivors / 891 passengers\n"
     ]
    }
   ],
   "source": [
    "#add a dead column\n",
    "#titanic_df['Dead']=(1+titanic_df.Survived)%2\n",
    "\n",
    "#calculate the Surviving_rate and the deat rate\n",
    "survivors_count=titanic_df[titanic_df.Survived==1]['PassengerId'].count()\n",
    "dead_count=titanic_df[titanic_df.Survived==0]['PassengerId'].count()\n",
    "passengers_count=titanic_df['PassengerId'].count()\n",
    "Surviving_rate=round(survivors_count*100/passengers_count,1)\n",
    "death_rate=round(dead_count*100/passengers_count,1)\n",
    "\n",
    "#display result\n",
    "print(\"The surving rate on the RMS Titanic is about {}% -> {} survivors / {} passengers\".format(Surviving_rate,survivors_count,passengers_count))\n",
    "print(\"The death rate on the RMS Titanic is about {}%-> {} survivors / {} passengers\".format(death_rate,dead_count,passengers_count))\n"
   ]
  },
  {
   "cell_type": "markdown",
   "metadata": {},
   "source": [
    "#### 2: Age distribution on the Titanic"
   ]
  },
  {
   "cell_type": "code",
   "execution_count": 9,
   "metadata": {},
   "outputs": [
    {
     "data": {
      "image/png": "[encoded data removed]",
      "text/plain": [
       "<Figure size 432x432 with 1 Axes>"
      ]
     },
     "metadata": {
      "needs_background": "light"
     },
     "output_type": "display_data"
    }
   ],
   "source": [
    "# titanic_df.Age.max()\n",
    "# fill nan value with 99 (no trouble since max age =80) \n",
    "titanic_df.Age.fillna(99,inplace=True)\n",
    "\n",
    "# class age in groups of 10 years\n",
    "titanic_df['Age_class']=((titanic_df.Age*0.1).apply(int)*10).apply(str)+' - '+(((titanic_df.Age*0.1).apply(int)+1)*10).apply(str)\n",
    "\n",
    "titanic_df_age_group=(titanic_df.groupby(['Survived','Age_class'],group_keys=False,as_index=False).size().unstack()).fillna(0).T\n",
    "titanic_df_age_group.rename(index={'90 - 100': 'NaN'},inplace=True)\n",
    "#titanic_df_age_group.loc['total'] = [len(titanic_df[titanic_df.Survived==0]),len(titanic_df[titanic_df.Survived==1])]\n",
    "titanic_df_age_group.plot(kind='bar',stacked=True\n",
    "                          ,grid=True,title='Distribution of Age of Titanic Passengers (stacked)',figsize=(6,6),width=0.7)\n",
    "plt.ylabel('Passenger Count')\n",
    "plt.show()\n",
    "\n",
    "#simple solution\n",
    "#titanic_df[['Age']].plot(kind='hist',bins=[0,10,20,30,40,50,60,70,80,90],rwidth=0.8)\n"
   ]
  },
  {
   "cell_type": "code",
   "execution_count": 8,
   "metadata": {},
   "outputs": [
    {
     "data": {
      "image/png": "[encoded data removed]",
      "text/plain": [
       "<Figure size 432x288 with 1 Axes>"
      ]
     },
     "metadata": {
      "needs_background": "light"
     },
     "output_type": "display_data"
    }
   ],
   "source": [
    "titanic_df_age_group.loc['Titanic']=Surviving_rate\n",
    "titanic_df_age_group['Surviving_rate']=round(titanic_df_age_group[1]*100/(titanic_df_age_group[0]+titanic_df_age_group[1]),1)\n",
    "titanic_df_age_group['Surviving_rate'].plot(kind='bar', title='surviving rate per age group')\n",
    "plt.ylabel('%')\n",
    "plt.show()"
   ]
  },
  {
   "cell_type": "code",
   "execution_count": 9,
   "metadata": {},
   "outputs": [
    {
     "data": {
      "image/png": "[encoded data removed]",
      "text/plain": [
       "<Figure size 432x432 with 1 Axes>"
      ]
     },
     "metadata": {
      "needs_background": "light"
     },
     "output_type": "display_data"
    }
   ],
   "source": [
    "def age_to_int(Age):\n",
    "    if Age<=10:\n",
    "        return '0_Child'\n",
    "    else:\n",
    "        return '1_Adult'\n",
    "    \n",
    "titanic_df['Age_code']=titanic_df.Age.apply(age_to_int)\n",
    "titanic_df_age_group=(titanic_df.groupby(['Survived','Age_code'],group_keys=False,as_index=False).size().unstack()).fillna(0).T\n",
    "titanic_df_age_group.plot(kind='bar',stacked=True\n",
    "                          ,grid=True,title='Distribution of Age of Titanic Passengers (stacked)',figsize=(6,6),width=0.7)\n",
    "plt.ylabel('Passenger Count')\n",
    "plt.show()"
   ]
  },
  {
   "cell_type": "code",
   "execution_count": 10,
   "metadata": {},
   "outputs": [
    {
     "data": {
      "image/png": "[encoded data removed]",
      "text/plain": [
       "<Figure size 432x288 with 1 Axes>"
      ]
     },
     "metadata": {
      "needs_background": "light"
     },
     "output_type": "display_data"
    }
   ],
   "source": [
    "titanic_df_age_group.loc['Titanic']=Surviving_rate\n",
    "titanic_df_age_group['Surviving_rate']=round(titanic_df_age_group[1]*100/(titanic_df_age_group[0]+titanic_df_age_group[1]),1)\n",
    "titanic_df_age_group['Surviving_rate'].plot(kind='bar', title='surviving rate per age group')\n",
    "plt.ylabel('%')\n",
    "plt.show()"
   ]
  },
  {
   "cell_type": "markdown",
   "metadata": {},
   "source": [
    "#### 3: distribution of gender of the Titanic passenger"
   ]
  },
  {
   "cell_type": "code",
   "execution_count": 11,
   "metadata": {},
   "outputs": [
    {
     "data": {
      "image/png": "[encoded data removed]",
      "text/plain": [
       "<Figure size 432x432 with 1 Axes>"
      ]
     },
     "metadata": {
      "needs_background": "light"
     },
     "output_type": "display_data"
    }
   ],
   "source": [
    "titanic_df_gender=(titanic_df.groupby(['Survived','Sex'],group_keys=False,as_index=False).size().unstack()).T\n",
    "titanic_df_gender.plot(kind='bar',grid=True,stacked=True,width=0.7,figsize=(6,6)\n",
    "                       ,title='Gender Distribution of Titanic Passengers (stacked)')\n",
    "plt.ylabel('Passenger Count')\n",
    "plt.xlabel('Gender')\n",
    "plt.show()"
   ]
  },
  {
   "cell_type": "code",
   "execution_count": 12,
   "metadata": {},
   "outputs": [
    {
     "data": {
      "image/png": "[encoded data removed]",
      "text/plain": [
       "<Figure size 432x288 with 1 Axes>"
      ]
     },
     "metadata": {
      "needs_background": "light"
     },
     "output_type": "display_data"
    }
   ],
   "source": [
    "titanic_df_gender.loc['Titanic']=Surviving_rate\n",
    "titanic_df_gender['Surviving_rate']=round(titanic_df_gender[1]*100/(titanic_df_gender[0]+titanic_df_gender[1]),1)\n",
    "titanic_df_gender['Surviving_rate'].plot(kind='bar', title='surviving rate per Sex')\n",
    "plt.ylabel('%')\n",
    "plt.show()"
   ]
  },
  {
   "cell_type": "markdown",
   "metadata": {},
   "source": [
    "#### 4: PClass distribution of the Titanic passenger"
   ]
  },
  {
   "cell_type": "code",
   "execution_count": 13,
   "metadata": {},
   "outputs": [
    {
     "data": {
      "image/png": "[encoded data removed]",
      "text/plain": [
       "<Figure size 432x432 with 1 Axes>"
      ]
     },
     "metadata": {
      "needs_background": "light"
     },
     "output_type": "display_data"
    }
   ],
   "source": [
    "titanic_df_Pclass=(titanic_df.groupby(['Survived','Pclass'],group_keys=False,as_index=False).size().unstack()).T\n",
    "titanic_df_Pclass.plot(kind='bar',stacked=True\n",
    "                        ,grid=True,title='PClass Distribution of Titanic Passengers (stacked)',figsize=(6,6),width=0.7)\n",
    "plt.ylabel('Passenger Count')\n",
    "plt.show()"
   ]
  },
  {
   "cell_type": "code",
   "execution_count": 14,
   "metadata": {},
   "outputs": [
    {
     "data": {
      "image/png": "[encoded data removed]",
      "text/plain": [
       "<Figure size 432x288 with 1 Axes>"
      ]
     },
     "metadata": {
      "needs_background": "light"
     },
     "output_type": "display_data"
    }
   ],
   "source": [
    "titanic_df_Pclass.loc['Titanic']=Surviving_rate\n",
    "titanic_df_Pclass['Surviving_rate']=round(titanic_df_Pclass[1]*100/(titanic_df_Pclass[0]+titanic_df_Pclass[1]),1)\n",
    "titanic_df_Pclass['Surviving_rate'].plot(kind='bar', title='surviving rate per Pclass')\n",
    "plt.ylabel('%')\n",
    "plt.show()"
   ]
  },
  {
   "cell_type": "markdown",
   "metadata": {},
   "source": [
    "#### 5: PClass, Gender, Age distribution of the Titanic passenger"
   ]
  },
  {
   "cell_type": "code",
   "execution_count": 15,
   "metadata": {},
   "outputs": [
    {
     "data": {
      "image/png": "[encoded data removed]",
      "text/plain": [
       "<Figure size 432x432 with 1 Axes>"
      ]
     },
     "metadata": {
      "needs_background": "light"
     },
     "output_type": "display_data"
    }
   ],
   "source": [
    "titanic_df_Surv_Sex_Pclass=(titanic_df.groupby(['Sex','Age_code','Pclass','Survived'],as_index=False).size().unstack().fillna(0))\n",
    "\n",
    "#titanic_df_Surv_Sex_Pclass.loc['total'] = list(titanic_df_Surv_Sex_Pclass.sum().values)\n",
    "titanic_df_Surv_Sex_Pclass.plot(kind='bar',stacked=True\n",
    "                        ,grid=True,title='PClass and Gender Distribution of Titanic Passengers (stacked)',figsize=(6,6),width=0.7)\n",
    "plt.ylabel('Passenger Count')\n",
    "plt.xlabel('Gender, Pclass')\n",
    "plt.show()\n",
    "#titanic_df_Surv_Sex_Pclass"
   ]
  },
  {
   "cell_type": "code",
   "execution_count": 16,
   "metadata": {},
   "outputs": [
    {
     "data": {
      "image/png": "[encoded data removed]",
      "text/plain": [
       "<Figure size 1152x720 with 1 Axes>"
      ]
     },
     "metadata": {
      "needs_background": "light"
     },
     "output_type": "display_data"
    }
   ],
   "source": [
    "titanic_df_Surv_Sex_Pclass.loc['Titanic']=Surviving_rate\n",
    "titanic_df_Surv_Sex_Pclass['Surviving_rate']=round(titanic_df_Surv_Sex_Pclass[1]*100/(titanic_df_Surv_Sex_Pclass[0]+titanic_df_Surv_Sex_Pclass[1]),1)\n",
    "titanic_df_Surv_Sex_Pclass['Surviving_rate'].plot(kind='bar', title='surviving rate per Sex and Pclass',figsize=(16,10))\n",
    "plt.ylabel('%')\n",
    "plt.show()"
   ]
  },
  {
   "cell_type": "markdown",
   "metadata": {},
   "source": [
    "#### 6 Something else interestiong \n",
    "    determine Pearson Correlation for a variable"
   ]
  },
  {
   "cell_type": "code",
   "execution_count": 17,
   "metadata": {},
   "outputs": [],
   "source": [
    "def Strong_pearson_correlation(df=titanic_df,min_r=0.5):\n",
    "    ''' returns all correlation with pearson r higher than a given value\n",
    "    inputs:\n",
    "        - df (Dataframe):  Dataframe that is investigated\n",
    "         - min_r (float) : min r pearson for coorelation to be relevant\n",
    "    returns:\n",
    "        - returns all correlation with pearson r > min_r \n",
    "    default input\n",
    "        - df=titanic_df\n",
    "        - min_r=0.6\n",
    "    examples:\n",
    "        - find_pearson_correlation() #for default value\n",
    "        - find_pearson_correlation('EXITSn',0.7)\n",
    "        - find_pearson_correlation('EXITSn',0.5)\n",
    "    '''\n",
    "# determine the r_pearson coorelation matrix\n",
    "    corr_pearson=df.corr(method='pearson')\n",
    "    # get correlation at min_r\n",
    "    my_strong_corr={} \n",
    "    for col in corr_pearson.columns:\n",
    "        for row in corr_pearson.index:\n",
    "            if row==col:\n",
    "                break\n",
    "            else:\n",
    "                if abs(corr_pearson.loc[row, col])>=min_r and abs(corr_pearson.loc[row, col])<1:\n",
    "                    corr=(row,col)\n",
    "                    my_strong_corr[corr]=round(corr_pearson.loc[row, col],6)\n",
    "    return my_strong_corr\n",
    "\n",
    "def find_pearson_correlation(df=titanic_df, var='Survived',min_r=0.5):\n",
    "    ''' returns a list of correlation for a given var\n",
    "    inputs:\n",
    "        - df (Dataframe):  Dataframe that is investigated\n",
    "        - Var (string) : variable that is investigated\n",
    "        - min_r (float) : min r pearson for coorelation to be relevant\n",
    "    returns:\n",
    "        - list of correlation and associated r pearson\n",
    "    default input\n",
    "        - df = titanic_df\n",
    "        - var = 'Survived'\n",
    "        - min_r = 0.5\n",
    "    examples:\n",
    "        - find_pearson_correlation() #for default value\n",
    "        - find_pearson_correlation('Survived',0.5)\n",
    "    ''' \n",
    "    if type(var)!=str:\n",
    "        print('the variable must be between \" \" or ' ' and be a string')\n",
    "    else:\n",
    "        my_strong_corr=Strong_pearson_correlation(df=df,min_r=min_r)\n",
    "                        \n",
    "         # get the correlation involving the given var               \n",
    "        my_corr=[]\n",
    "        for i in range(len(list(my_strong_corr.keys()))):\n",
    "            if var in list(my_strong_corr.keys())[i]:\n",
    "                my_corr.append(list(my_strong_corr.keys())[i])\n",
    "                \n",
    "        my_related_corr={}\n",
    "        for corr in my_corr:\n",
    "            my_related_corr[corr]=my_strong_corr[corr]\n",
    "        return my_related_corr\n"
   ]
  },
  {
   "cell_type": "code",
   "execution_count": 18,
   "metadata": {
    "scrolled": true
   },
   "outputs": [],
   "source": [
    "def gender_to_int(Sex):\n",
    "    if Sex=='female':\n",
    "        return 1\n",
    "    elif Sex=='male':\n",
    "        return 0\n",
    "\n",
    "def port_to_int(port):\n",
    "    if port=='C':\n",
    "        return 0\n",
    "    elif port=='Q':\n",
    "        return 1\n",
    "    elif port=='S':\n",
    "        return 2 \n",
    "    \n",
    "titanic_df['gender_code']=titanic_df.Sex.apply(gender_to_int)\n",
    "titanic_df['port_code']=titanic_df.Embarked.apply(port_to_int)\n",
    "#titanic_df.head()"
   ]
  },
  {
   "cell_type": "code",
   "execution_count": 19,
   "metadata": {},
   "outputs": [
    {
     "name": "stdout",
     "output_type": "stream",
     "text": [
      "{('Pclass', 'Fare'): -0.5495, ('Survived', 'gender_code'): 0.543351}\n",
      "{('Survived', 'gender_code'): 0.543351}\n",
      "{('Pclass', 'Fare'): -0.5495}\n"
     ]
    }
   ],
   "source": [
    "print(Strong_pearson_correlation(df=titanic_df,min_r=0.5))\n",
    "print(find_pearson_correlation(df=titanic_df, var='Survived',min_r=0.5))\n",
    "print(find_pearson_correlation(df=titanic_df, var='Pclass',min_r=0.5))\n"
   ]
  },
  {
   "cell_type": "markdown",
   "metadata": {},
   "source": [
    "####  Fare vs Embarked Port and Pclass"
   ]
  },
  {
   "cell_type": "code",
   "execution_count": 20,
   "metadata": {},
   "outputs": [
    {
     "data": {
      "image/png": "[encoded data removed]",
      "text/plain": [
       "<Figure size 432x288 with 1 Axes>"
      ]
     },
     "metadata": {
      "needs_background": "light"
     },
     "output_type": "display_data"
    }
   ],
   "source": [
    "Pclass_vs_fare=titanic_df.groupby(['Ticket','Fare','Pclass','Embarked'],as_index=False)[['Fare','Pclass','Embarked']].all()\n",
    "#Pclass_vs_fare2=Pclass_vs_fare.groupby(['Pclass','Embarked'],as_index=False)['Fare'].mean()\n",
    "Pclass_vs_fare2=Pclass_vs_fare.groupby(['Pclass','Embarked'],as_index=False)['Fare'].sum()\n",
    "first=Pclass_vs_fare2[Pclass_vs_fare2.Pclass==1].set_index('Embarked')\n",
    "second=Pclass_vs_fare2[Pclass_vs_fare2.Pclass==2].set_index('Embarked')\n",
    "third=Pclass_vs_fare2[Pclass_vs_fare2.Pclass==3].set_index('Embarked')\n",
    "ind=third.index\n",
    "tiket_price_df=pd.concat([first['Fare'], second['Fare'],third['Fare']], axis=1, keys=['first', 'second','third'])\n",
    "tiket_price_df.plot(kind='bar')\n",
    "plt.ylabel('Mean Fare')\n",
    "plt.show()"
   ]
  },
  {
   "cell_type": "code",
   "execution_count": 21,
   "metadata": {},
   "outputs": [
    {
     "data": {
      "text/html": [
       "<div>\n",
       "<style scoped>\n",
       "    .dataframe tbody tr th:only-of-type {\n",
       "        vertical-align: middle;\n",
       "    }\n",
       "\n",
       "    .dataframe tbody tr th {\n",
       "        vertical-align: top;\n",
       "    }\n",
       "\n",
       "    .dataframe thead tr th {\n",
       "        text-align: left;\n",
       "    }\n",
       "</style>\n",
       "<table border=\"1\" class=\"dataframe\">\n",
       "  <thead>\n",
       "    <tr>\n",
       "      <th></th>\n",
       "      <th>Embarked</th>\n",
       "      <th>Pclass</th>\n",
       "      <th colspan=\"8\" halign=\"left\">stat</th>\n",
       "    </tr>\n",
       "    <tr>\n",
       "      <th></th>\n",
       "      <th></th>\n",
       "      <th></th>\n",
       "      <th>count</th>\n",
       "      <th>mean</th>\n",
       "      <th>std</th>\n",
       "      <th>min</th>\n",
       "      <th>25%</th>\n",
       "      <th>50%</th>\n",
       "      <th>75%</th>\n",
       "      <th>max</th>\n",
       "    </tr>\n",
       "  </thead>\n",
       "  <tbody>\n",
       "    <tr>\n",
       "      <td>0</td>\n",
       "      <td>C</td>\n",
       "      <td>1</td>\n",
       "      <td>57.0</td>\n",
       "      <td>81.616154</td>\n",
       "      <td>79.924655</td>\n",
       "      <td>26.5500</td>\n",
       "      <td>31.00000</td>\n",
       "      <td>61.3792</td>\n",
       "      <td>83.15830</td>\n",
       "      <td>512.3292</td>\n",
       "    </tr>\n",
       "    <tr>\n",
       "      <td>1</td>\n",
       "      <td>C</td>\n",
       "      <td>2</td>\n",
       "      <td>12.0</td>\n",
       "      <td>21.404858</td>\n",
       "      <td>10.383105</td>\n",
       "      <td>12.0000</td>\n",
       "      <td>13.84165</td>\n",
       "      <td>15.0479</td>\n",
       "      <td>28.30830</td>\n",
       "      <td>41.5792</td>\n",
       "    </tr>\n",
       "    <tr>\n",
       "      <td>2</td>\n",
       "      <td>C</td>\n",
       "      <td>3</td>\n",
       "      <td>53.0</td>\n",
       "      <td>9.922885</td>\n",
       "      <td>4.348954</td>\n",
       "      <td>4.0125</td>\n",
       "      <td>7.22500</td>\n",
       "      <td>7.2292</td>\n",
       "      <td>14.45420</td>\n",
       "      <td>22.3583</td>\n",
       "    </tr>\n",
       "    <tr>\n",
       "      <td>3</td>\n",
       "      <td>Q</td>\n",
       "      <td>1</td>\n",
       "      <td>1.0</td>\n",
       "      <td>90.000000</td>\n",
       "      <td>NaN</td>\n",
       "      <td>90.0000</td>\n",
       "      <td>90.00000</td>\n",
       "      <td>90.0000</td>\n",
       "      <td>90.00000</td>\n",
       "      <td>90.0000</td>\n",
       "    </tr>\n",
       "    <tr>\n",
       "      <td>4</td>\n",
       "      <td>Q</td>\n",
       "      <td>2</td>\n",
       "      <td>3.0</td>\n",
       "      <td>12.350000</td>\n",
       "      <td>0.000000</td>\n",
       "      <td>12.3500</td>\n",
       "      <td>12.35000</td>\n",
       "      <td>12.3500</td>\n",
       "      <td>12.35000</td>\n",
       "      <td>12.3500</td>\n",
       "    </tr>\n",
       "    <tr>\n",
       "      <td>5</td>\n",
       "      <td>Q</td>\n",
       "      <td>3</td>\n",
       "      <td>62.0</td>\n",
       "      <td>9.204102</td>\n",
       "      <td>4.322231</td>\n",
       "      <td>6.7500</td>\n",
       "      <td>7.75000</td>\n",
       "      <td>7.7500</td>\n",
       "      <td>7.82920</td>\n",
       "      <td>29.1250</td>\n",
       "    </tr>\n",
       "    <tr>\n",
       "      <td>6</td>\n",
       "      <td>S</td>\n",
       "      <td>1</td>\n",
       "      <td>90.0</td>\n",
       "      <td>53.033194</td>\n",
       "      <td>47.310064</td>\n",
       "      <td>0.0000</td>\n",
       "      <td>26.55000</td>\n",
       "      <td>35.2500</td>\n",
       "      <td>55.67500</td>\n",
       "      <td>263.0000</td>\n",
       "    </tr>\n",
       "    <tr>\n",
       "      <td>7</td>\n",
       "      <td>S</td>\n",
       "      <td>2</td>\n",
       "      <td>125.0</td>\n",
       "      <td>17.259600</td>\n",
       "      <td>10.159603</td>\n",
       "      <td>0.0000</td>\n",
       "      <td>12.27500</td>\n",
       "      <td>13.0000</td>\n",
       "      <td>26.00000</td>\n",
       "      <td>73.5000</td>\n",
       "    </tr>\n",
       "    <tr>\n",
       "      <td>8</td>\n",
       "      <td>S</td>\n",
       "      <td>3</td>\n",
       "      <td>280.0</td>\n",
       "      <td>10.296856</td>\n",
       "      <td>6.969020</td>\n",
       "      <td>0.0000</td>\n",
       "      <td>7.79580</td>\n",
       "      <td>7.9250</td>\n",
       "      <td>9.25625</td>\n",
       "      <td>69.5500</td>\n",
       "    </tr>\n",
       "  </tbody>\n",
       "</table>\n",
       "</div>"
      ],
      "text/plain": [
       "  Embarked Pclass   stat                                                    \\\n",
       "                   count       mean        std      min       25%      50%   \n",
       "0        C      1   57.0  81.616154  79.924655  26.5500  31.00000  61.3792   \n",
       "1        C      2   12.0  21.404858  10.383105  12.0000  13.84165  15.0479   \n",
       "2        C      3   53.0   9.922885   4.348954   4.0125   7.22500   7.2292   \n",
       "3        Q      1    1.0  90.000000        NaN  90.0000  90.00000  90.0000   \n",
       "4        Q      2    3.0  12.350000   0.000000  12.3500  12.35000  12.3500   \n",
       "5        Q      3   62.0   9.204102   4.322231   6.7500   7.75000   7.7500   \n",
       "6        S      1   90.0  53.033194  47.310064   0.0000  26.55000  35.2500   \n",
       "7        S      2  125.0  17.259600  10.159603   0.0000  12.27500  13.0000   \n",
       "8        S      3  280.0  10.296856   6.969020   0.0000   7.79580   7.9250   \n",
       "\n",
       "                       \n",
       "        75%       max  \n",
       "0  83.15830  512.3292  \n",
       "1  28.30830   41.5792  \n",
       "2  14.45420   22.3583  \n",
       "3  90.00000   90.0000  \n",
       "4  12.35000   12.3500  \n",
       "5   7.82920   29.1250  \n",
       "6  55.67500  263.0000  \n",
       "7  26.00000   73.5000  \n",
       "8   9.25625   69.5500  "
      ]
     },
     "execution_count": 21,
     "metadata": {},
     "output_type": "execute_result"
    }
   ],
   "source": [
    "titanic_df_by_tiket=titanic_df.groupby(['Ticket','Fare','Pclass','Embarked'],as_index=False)[['Fare','Pclass','Embarked']].size().reset_index(name='Pcount')\n",
    "tiket_stat_df=titanic_df_by_tiket.groupby(['Embarked','Pclass'],as_index=False)['Fare'].agg({'stat': 'describe'})\n",
    "tiket_stat_df"
   ]
  },
  {
   "cell_type": "code",
   "execution_count": 22,
   "metadata": {},
   "outputs": [
    {
     "name": "stdout",
     "output_type": "stream",
     "text": [
      "\n",
      "Fare volatility\n",
      "\n"
     ]
    },
    {
     "data": {
      "image/png": "[encoded data removed]",
      "text/plain": [
       "<Figure size 1152x432 with 1 Axes>"
      ]
     },
     "metadata": {
      "needs_background": "light"
     },
     "output_type": "display_data"
    }
   ],
   "source": [
    "print('\\nFare volatility\\n')\n",
    "#titanic_df.boxplot(column='Fare',by=['Pclass','Embarked'],figsize=(16,6))\n",
    "titanic_df.boxplot(column='Fare',by=['Embarked'],figsize=(16,6))\n",
    "\n",
    "plt.show()\n"
   ]
  },
  {
   "cell_type": "code",
   "execution_count": 23,
   "metadata": {},
   "outputs": [
    {
     "data": {
      "text/html": [
       "<div>\n",
       "<style scoped>\n",
       "    .dataframe tbody tr th:only-of-type {\n",
       "        vertical-align: middle;\n",
       "    }\n",
       "\n",
       "    .dataframe tbody tr th {\n",
       "        vertical-align: top;\n",
       "    }\n",
       "\n",
       "    .dataframe thead tr th {\n",
       "        text-align: left;\n",
       "    }\n",
       "</style>\n",
       "<table border=\"1\" class=\"dataframe\">\n",
       "  <thead>\n",
       "    <tr>\n",
       "      <th></th>\n",
       "      <th>Pclass</th>\n",
       "      <th>Survived</th>\n",
       "      <th colspan=\"8\" halign=\"left\">stat</th>\n",
       "    </tr>\n",
       "    <tr>\n",
       "      <th></th>\n",
       "      <th></th>\n",
       "      <th></th>\n",
       "      <th>count</th>\n",
       "      <th>mean</th>\n",
       "      <th>std</th>\n",
       "      <th>min</th>\n",
       "      <th>25%</th>\n",
       "      <th>50%</th>\n",
       "      <th>75%</th>\n",
       "      <th>max</th>\n",
       "    </tr>\n",
       "  </thead>\n",
       "  <tbody>\n",
       "    <tr>\n",
       "      <td>0</td>\n",
       "      <td>1</td>\n",
       "      <td>0</td>\n",
       "      <td>80.0</td>\n",
       "      <td>64.684008</td>\n",
       "      <td>60.662089</td>\n",
       "      <td>0.0000</td>\n",
       "      <td>27.74270</td>\n",
       "      <td>44.7500</td>\n",
       "      <td>78.937500</td>\n",
       "      <td>263.0000</td>\n",
       "    </tr>\n",
       "    <tr>\n",
       "      <td>1</td>\n",
       "      <td>1</td>\n",
       "      <td>1</td>\n",
       "      <td>136.0</td>\n",
       "      <td>95.608029</td>\n",
       "      <td>85.286820</td>\n",
       "      <td>25.9292</td>\n",
       "      <td>50.98545</td>\n",
       "      <td>77.9583</td>\n",
       "      <td>111.481225</td>\n",
       "      <td>512.3292</td>\n",
       "    </tr>\n",
       "    <tr>\n",
       "      <td>2</td>\n",
       "      <td>2</td>\n",
       "      <td>0</td>\n",
       "      <td>97.0</td>\n",
       "      <td>19.412328</td>\n",
       "      <td>15.307175</td>\n",
       "      <td>0.0000</td>\n",
       "      <td>11.50000</td>\n",
       "      <td>13.0000</td>\n",
       "      <td>26.000000</td>\n",
       "      <td>73.5000</td>\n",
       "    </tr>\n",
       "    <tr>\n",
       "      <td>3</td>\n",
       "      <td>2</td>\n",
       "      <td>1</td>\n",
       "      <td>87.0</td>\n",
       "      <td>22.055700</td>\n",
       "      <td>10.853502</td>\n",
       "      <td>10.5000</td>\n",
       "      <td>13.00000</td>\n",
       "      <td>21.0000</td>\n",
       "      <td>26.250000</td>\n",
       "      <td>65.0000</td>\n",
       "    </tr>\n",
       "    <tr>\n",
       "      <td>4</td>\n",
       "      <td>3</td>\n",
       "      <td>0</td>\n",
       "      <td>372.0</td>\n",
       "      <td>13.669364</td>\n",
       "      <td>12.118338</td>\n",
       "      <td>0.0000</td>\n",
       "      <td>7.75000</td>\n",
       "      <td>8.0500</td>\n",
       "      <td>15.136450</td>\n",
       "      <td>69.5500</td>\n",
       "    </tr>\n",
       "    <tr>\n",
       "      <td>5</td>\n",
       "      <td>3</td>\n",
       "      <td>1</td>\n",
       "      <td>119.0</td>\n",
       "      <td>13.694887</td>\n",
       "      <td>10.692993</td>\n",
       "      <td>0.0000</td>\n",
       "      <td>7.77500</td>\n",
       "      <td>8.5167</td>\n",
       "      <td>15.875000</td>\n",
       "      <td>56.4958</td>\n",
       "    </tr>\n",
       "  </tbody>\n",
       "</table>\n",
       "</div>"
      ],
      "text/plain": [
       "  Pclass Survived   stat                                                    \\\n",
       "                   count       mean        std      min       25%      50%   \n",
       "0      1        0   80.0  64.684008  60.662089   0.0000  27.74270  44.7500   \n",
       "1      1        1  136.0  95.608029  85.286820  25.9292  50.98545  77.9583   \n",
       "2      2        0   97.0  19.412328  15.307175   0.0000  11.50000  13.0000   \n",
       "3      2        1   87.0  22.055700  10.853502  10.5000  13.00000  21.0000   \n",
       "4      3        0  372.0  13.669364  12.118338   0.0000   7.75000   8.0500   \n",
       "5      3        1  119.0  13.694887  10.692993   0.0000   7.77500   8.5167   \n",
       "\n",
       "                         \n",
       "          75%       max  \n",
       "0   78.937500  263.0000  \n",
       "1  111.481225  512.3292  \n",
       "2   26.000000   73.5000  \n",
       "3   26.250000   65.0000  \n",
       "4   15.136450   69.5500  \n",
       "5   15.875000   56.4958  "
      ]
     },
     "execution_count": 23,
     "metadata": {},
     "output_type": "execute_result"
    }
   ],
   "source": [
    "titanic_df.groupby(['Pclass','Survived'],as_index=False)['Fare'].agg({'stat':'describe'})\n"
   ]
  },
  {
   "cell_type": "markdown",
   "metadata": {},
   "source": [
    "### Conclusion\n",
    "     preliminary comment: \n",
    "         this study deals with a bit more than the half of the Titanic passenger list. (891 vs 1352)\n",
    "         the titanic crew is not involved in the study. allthough it might affect the reflection about survivors \n",
    "         \n",
    "         \n",
    "     for the given data, the folowing conclusion can be drawn about the survivors:\n",
    "         - Women are more likly to survive \n",
    "         - Children are more likly to survive\n",
    "         - Rich are more likly to survive\n",
    "         \n",
    "     more details:\n",
    "         - Women and girls(<18 years old) of the 1st and 2nd Class have a surviving rate of about 90%  \n",
    "         - Boys(<18 years old) of the 1st and 2nd Class have a surviving rate of about 80% and 60% respectively\n",
    "         - Men (>18) of 1st, 2nd and 3rd Class have the lowest survivinge rate of about 35%, 10% and 15% respectively\n",
    "         - interesting fact is that the surviving rate of a 1st class male adult(35%) is higher than 3rd class boy(20%)\n",
    "         - Interesting fact about 1st class: survivors have a significanctly higher fare average than the deads\n",
    "         in the end the most inpacting variable for on the surviving is gender, age(as defined in the study) and class in this order \n",
    "      \n",
    "      other facts:\n",
    "          - the way the embarcation port atribute fare to a tiket seems chaotic without further details\n",
    "          - fare volatility(std) vs port attendence could be correlated (too less port to conclude)\n",
    "         \n",
    "        "
   ]
  },
  {
   "cell_type": "code",
   "execution_count": null,
   "metadata": {},
   "outputs": [],
   "source": []
  },
  {
   "cell_type": "code",
   "execution_count": null,
   "metadata": {},
   "outputs": [],
   "source": []
  },
  {
   "cell_type": "code",
   "execution_count": null,
   "metadata": {},
   "outputs": [],
   "source": []
  },
  {
   "cell_type": "code",
   "execution_count": 4,
   "metadata": {},
   "outputs": [
    {
     "name": "stdout",
     "output_type": "stream",
     "text": [
      "3\n",
      "hello\n"
     ]
    }
   ],
   "source": [
    "print(1+2)\n",
    "print('hello')"
   ]
  },
  {
   "cell_type": "code",
   "execution_count": null,
   "metadata": {},
   "outputs": [],
   "source": []
  }
 ],
 "metadata": {
  "kernelspec": {
   "display_name": "Python 3",
   "language": "python",
   "name": "python3"
  },
  "language_info": {
   "codemirror_mode": {
    "name": "ipython",
    "version": 3
   },
   "file_extension": ".py",
   "mimetype": "text/x-python",
   "name": "python",
   "nbconvert_exporter": "python",
   "pygments_lexer": "ipython3",
   "version": "3.7.3"
  }
 },
 "nbformat": 4,
 "nbformat_minor": 2
}
