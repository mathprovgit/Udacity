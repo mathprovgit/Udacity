{
 "cells": [
  {
   "cell_type": "code",
   "execution_count": 1,
   "metadata": {},
   "outputs": [],
   "source": [
    "import pandas as pd\n",
    "import numpy as np"
   ]
  },
  {
   "cell_type": "code",
   "execution_count": 2,
   "metadata": {},
   "outputs": [
    {
     "ename": "FileNotFoundError",
     "evalue": "[Errno 2] File b'C:/Users/GTE_Forschung_1/Desktop/0_TUberlin/17_programming/github_repos/Udacity_intro_data_analysis/lesson3/nyc_subway_weather.csv' does not exist: b'C:/Users/GTE_Forschung_1/Desktop/0_TUberlin/17_programming/github_repos/Udacity_intro_data_analysis/lesson3/nyc_subway_weather.csv'",
     "output_type": "error",
     "traceback": [
      "\u001b[1;31m---------------------------------------------------------------------------\u001b[0m",
      "\u001b[1;31mFileNotFoundError\u001b[0m                         Traceback (most recent call last)",
      "\u001b[1;32m<ipython-input-2-a56f563fac7e>\u001b[0m in \u001b[0;36m<module>\u001b[1;34m\u001b[0m\n\u001b[0;32m      4\u001b[0m \u001b[0mfull_path\u001b[0m\u001b[1;33m=\u001b[0m\u001b[0mpath\u001b[0m\u001b[1;33m+\u001b[0m\u001b[1;34m\"/\"\u001b[0m\u001b[1;33m+\u001b[0m\u001b[0mfile_name\u001b[0m\u001b[1;33m\u001b[0m\u001b[1;33m\u001b[0m\u001b[0m\n\u001b[0;32m      5\u001b[0m \u001b[1;31m#subway_df=pd.read_csv(full_path,index_col='datetime' )\u001b[0m\u001b[1;33m\u001b[0m\u001b[1;33m\u001b[0m\u001b[1;33m\u001b[0m\u001b[0m\n\u001b[1;32m----> 6\u001b[1;33m \u001b[0msubway_df\u001b[0m\u001b[1;33m=\u001b[0m\u001b[0mpd\u001b[0m\u001b[1;33m.\u001b[0m\u001b[0mread_csv\u001b[0m\u001b[1;33m(\u001b[0m\u001b[0mfull_path\u001b[0m\u001b[1;33m)\u001b[0m\u001b[1;33m\u001b[0m\u001b[1;33m\u001b[0m\u001b[0m\n\u001b[0m\u001b[0;32m      7\u001b[0m \u001b[0mnum_row\u001b[0m\u001b[1;33m,\u001b[0m\u001b[0mnum_col\u001b[0m\u001b[1;33m=\u001b[0m\u001b[0msubway_df\u001b[0m\u001b[1;33m.\u001b[0m\u001b[0mshape\u001b[0m\u001b[1;33m\u001b[0m\u001b[1;33m\u001b[0m\u001b[0m\n\u001b[0;32m      8\u001b[0m \u001b[0mprint\u001b[0m\u001b[1;33m(\u001b[0m\u001b[1;34m'there is {} rows and {} cols in this df'\u001b[0m\u001b[1;33m.\u001b[0m\u001b[0mformat\u001b[0m\u001b[1;33m(\u001b[0m\u001b[0mnum_row\u001b[0m\u001b[1;33m,\u001b[0m\u001b[0mnum_col\u001b[0m\u001b[1;33m)\u001b[0m\u001b[1;33m)\u001b[0m\u001b[1;33m\u001b[0m\u001b[1;33m\u001b[0m\u001b[0m\n",
      "\u001b[1;32m~\\Anaconda3\\lib\\site-packages\\pandas\\io\\parsers.py\u001b[0m in \u001b[0;36mparser_f\u001b[1;34m(filepath_or_buffer, sep, delimiter, header, names, index_col, usecols, squeeze, prefix, mangle_dupe_cols, dtype, engine, converters, true_values, false_values, skipinitialspace, skiprows, skipfooter, nrows, na_values, keep_default_na, na_filter, verbose, skip_blank_lines, parse_dates, infer_datetime_format, keep_date_col, date_parser, dayfirst, cache_dates, iterator, chunksize, compression, thousands, decimal, lineterminator, quotechar, quoting, doublequote, escapechar, comment, encoding, dialect, error_bad_lines, warn_bad_lines, delim_whitespace, low_memory, memory_map, float_precision)\u001b[0m\n\u001b[0;32m    683\u001b[0m         )\n\u001b[0;32m    684\u001b[0m \u001b[1;33m\u001b[0m\u001b[0m\n\u001b[1;32m--> 685\u001b[1;33m         \u001b[1;32mreturn\u001b[0m \u001b[0m_read\u001b[0m\u001b[1;33m(\u001b[0m\u001b[0mfilepath_or_buffer\u001b[0m\u001b[1;33m,\u001b[0m \u001b[0mkwds\u001b[0m\u001b[1;33m)\u001b[0m\u001b[1;33m\u001b[0m\u001b[1;33m\u001b[0m\u001b[0m\n\u001b[0m\u001b[0;32m    686\u001b[0m \u001b[1;33m\u001b[0m\u001b[0m\n\u001b[0;32m    687\u001b[0m     \u001b[0mparser_f\u001b[0m\u001b[1;33m.\u001b[0m\u001b[0m__name__\u001b[0m \u001b[1;33m=\u001b[0m \u001b[0mname\u001b[0m\u001b[1;33m\u001b[0m\u001b[1;33m\u001b[0m\u001b[0m\n",
      "\u001b[1;32m~\\Anaconda3\\lib\\site-packages\\pandas\\io\\parsers.py\u001b[0m in \u001b[0;36m_read\u001b[1;34m(filepath_or_buffer, kwds)\u001b[0m\n\u001b[0;32m    455\u001b[0m \u001b[1;33m\u001b[0m\u001b[0m\n\u001b[0;32m    456\u001b[0m     \u001b[1;31m# Create the parser.\u001b[0m\u001b[1;33m\u001b[0m\u001b[1;33m\u001b[0m\u001b[1;33m\u001b[0m\u001b[0m\n\u001b[1;32m--> 457\u001b[1;33m     \u001b[0mparser\u001b[0m \u001b[1;33m=\u001b[0m \u001b[0mTextFileReader\u001b[0m\u001b[1;33m(\u001b[0m\u001b[0mfp_or_buf\u001b[0m\u001b[1;33m,\u001b[0m \u001b[1;33m**\u001b[0m\u001b[0mkwds\u001b[0m\u001b[1;33m)\u001b[0m\u001b[1;33m\u001b[0m\u001b[1;33m\u001b[0m\u001b[0m\n\u001b[0m\u001b[0;32m    458\u001b[0m \u001b[1;33m\u001b[0m\u001b[0m\n\u001b[0;32m    459\u001b[0m     \u001b[1;32mif\u001b[0m \u001b[0mchunksize\u001b[0m \u001b[1;32mor\u001b[0m \u001b[0miterator\u001b[0m\u001b[1;33m:\u001b[0m\u001b[1;33m\u001b[0m\u001b[1;33m\u001b[0m\u001b[0m\n",
      "\u001b[1;32m~\\Anaconda3\\lib\\site-packages\\pandas\\io\\parsers.py\u001b[0m in \u001b[0;36m__init__\u001b[1;34m(self, f, engine, **kwds)\u001b[0m\n\u001b[0;32m    893\u001b[0m             \u001b[0mself\u001b[0m\u001b[1;33m.\u001b[0m\u001b[0moptions\u001b[0m\u001b[1;33m[\u001b[0m\u001b[1;34m\"has_index_names\"\u001b[0m\u001b[1;33m]\u001b[0m \u001b[1;33m=\u001b[0m \u001b[0mkwds\u001b[0m\u001b[1;33m[\u001b[0m\u001b[1;34m\"has_index_names\"\u001b[0m\u001b[1;33m]\u001b[0m\u001b[1;33m\u001b[0m\u001b[1;33m\u001b[0m\u001b[0m\n\u001b[0;32m    894\u001b[0m \u001b[1;33m\u001b[0m\u001b[0m\n\u001b[1;32m--> 895\u001b[1;33m         \u001b[0mself\u001b[0m\u001b[1;33m.\u001b[0m\u001b[0m_make_engine\u001b[0m\u001b[1;33m(\u001b[0m\u001b[0mself\u001b[0m\u001b[1;33m.\u001b[0m\u001b[0mengine\u001b[0m\u001b[1;33m)\u001b[0m\u001b[1;33m\u001b[0m\u001b[1;33m\u001b[0m\u001b[0m\n\u001b[0m\u001b[0;32m    896\u001b[0m \u001b[1;33m\u001b[0m\u001b[0m\n\u001b[0;32m    897\u001b[0m     \u001b[1;32mdef\u001b[0m \u001b[0mclose\u001b[0m\u001b[1;33m(\u001b[0m\u001b[0mself\u001b[0m\u001b[1;33m)\u001b[0m\u001b[1;33m:\u001b[0m\u001b[1;33m\u001b[0m\u001b[1;33m\u001b[0m\u001b[0m\n",
      "\u001b[1;32m~\\Anaconda3\\lib\\site-packages\\pandas\\io\\parsers.py\u001b[0m in \u001b[0;36m_make_engine\u001b[1;34m(self, engine)\u001b[0m\n\u001b[0;32m   1133\u001b[0m     \u001b[1;32mdef\u001b[0m \u001b[0m_make_engine\u001b[0m\u001b[1;33m(\u001b[0m\u001b[0mself\u001b[0m\u001b[1;33m,\u001b[0m \u001b[0mengine\u001b[0m\u001b[1;33m=\u001b[0m\u001b[1;34m\"c\"\u001b[0m\u001b[1;33m)\u001b[0m\u001b[1;33m:\u001b[0m\u001b[1;33m\u001b[0m\u001b[1;33m\u001b[0m\u001b[0m\n\u001b[0;32m   1134\u001b[0m         \u001b[1;32mif\u001b[0m \u001b[0mengine\u001b[0m \u001b[1;33m==\u001b[0m \u001b[1;34m\"c\"\u001b[0m\u001b[1;33m:\u001b[0m\u001b[1;33m\u001b[0m\u001b[1;33m\u001b[0m\u001b[0m\n\u001b[1;32m-> 1135\u001b[1;33m             \u001b[0mself\u001b[0m\u001b[1;33m.\u001b[0m\u001b[0m_engine\u001b[0m \u001b[1;33m=\u001b[0m \u001b[0mCParserWrapper\u001b[0m\u001b[1;33m(\u001b[0m\u001b[0mself\u001b[0m\u001b[1;33m.\u001b[0m\u001b[0mf\u001b[0m\u001b[1;33m,\u001b[0m \u001b[1;33m**\u001b[0m\u001b[0mself\u001b[0m\u001b[1;33m.\u001b[0m\u001b[0moptions\u001b[0m\u001b[1;33m)\u001b[0m\u001b[1;33m\u001b[0m\u001b[1;33m\u001b[0m\u001b[0m\n\u001b[0m\u001b[0;32m   1136\u001b[0m         \u001b[1;32melse\u001b[0m\u001b[1;33m:\u001b[0m\u001b[1;33m\u001b[0m\u001b[1;33m\u001b[0m\u001b[0m\n\u001b[0;32m   1137\u001b[0m             \u001b[1;32mif\u001b[0m \u001b[0mengine\u001b[0m \u001b[1;33m==\u001b[0m \u001b[1;34m\"python\"\u001b[0m\u001b[1;33m:\u001b[0m\u001b[1;33m\u001b[0m\u001b[1;33m\u001b[0m\u001b[0m\n",
      "\u001b[1;32m~\\Anaconda3\\lib\\site-packages\\pandas\\io\\parsers.py\u001b[0m in \u001b[0;36m__init__\u001b[1;34m(self, src, **kwds)\u001b[0m\n\u001b[0;32m   1915\u001b[0m         \u001b[0mkwds\u001b[0m\u001b[1;33m[\u001b[0m\u001b[1;34m\"usecols\"\u001b[0m\u001b[1;33m]\u001b[0m \u001b[1;33m=\u001b[0m \u001b[0mself\u001b[0m\u001b[1;33m.\u001b[0m\u001b[0musecols\u001b[0m\u001b[1;33m\u001b[0m\u001b[1;33m\u001b[0m\u001b[0m\n\u001b[0;32m   1916\u001b[0m \u001b[1;33m\u001b[0m\u001b[0m\n\u001b[1;32m-> 1917\u001b[1;33m         \u001b[0mself\u001b[0m\u001b[1;33m.\u001b[0m\u001b[0m_reader\u001b[0m \u001b[1;33m=\u001b[0m \u001b[0mparsers\u001b[0m\u001b[1;33m.\u001b[0m\u001b[0mTextReader\u001b[0m\u001b[1;33m(\u001b[0m\u001b[0msrc\u001b[0m\u001b[1;33m,\u001b[0m \u001b[1;33m**\u001b[0m\u001b[0mkwds\u001b[0m\u001b[1;33m)\u001b[0m\u001b[1;33m\u001b[0m\u001b[1;33m\u001b[0m\u001b[0m\n\u001b[0m\u001b[0;32m   1918\u001b[0m         \u001b[0mself\u001b[0m\u001b[1;33m.\u001b[0m\u001b[0munnamed_cols\u001b[0m \u001b[1;33m=\u001b[0m \u001b[0mself\u001b[0m\u001b[1;33m.\u001b[0m\u001b[0m_reader\u001b[0m\u001b[1;33m.\u001b[0m\u001b[0munnamed_cols\u001b[0m\u001b[1;33m\u001b[0m\u001b[1;33m\u001b[0m\u001b[0m\n\u001b[0;32m   1919\u001b[0m \u001b[1;33m\u001b[0m\u001b[0m\n",
      "\u001b[1;32mpandas\\_libs\\parsers.pyx\u001b[0m in \u001b[0;36mpandas._libs.parsers.TextReader.__cinit__\u001b[1;34m()\u001b[0m\n",
      "\u001b[1;32mpandas\\_libs\\parsers.pyx\u001b[0m in \u001b[0;36mpandas._libs.parsers.TextReader._setup_parser_source\u001b[1;34m()\u001b[0m\n",
      "\u001b[1;31mFileNotFoundError\u001b[0m: [Errno 2] File b'C:/Users/GTE_Forschung_1/Desktop/0_TUberlin/17_programming/github_repos/Udacity_intro_data_analysis/lesson3/nyc_subway_weather.csv' does not exist: b'C:/Users/GTE_Forschung_1/Desktop/0_TUberlin/17_programming/github_repos/Udacity_intro_data_analysis/lesson3/nyc_subway_weather.csv'"
     ]
    }
   ],
   "source": [
    "path='C:/Users/GTE_Forschung_3/Desktop/mathieu/python/github_repos/Udacity_intro_data_analysis/lesson3'\n",
    "path='C:/Users/GTE_Forschung_1/Desktop/0_TUberlin/17_programming/github_repos/Udacity_intro_data_analysis/lesson3'\n",
    "file_name='nyc_subway_weather.csv'\n",
    "full_path=path+\"/\"+file_name\n",
    "#subway_df=pd.read_csv(full_path,index_col='datetime' )\n",
    "subway_df=pd.read_csv(full_path)\n",
    "num_row,num_col=subway_df.shape\n",
    "print('there is {} rows and {} cols in this df'.format(num_row,num_col))\n",
    "#subway_df.drop(['DATEn','TIMEn'],axis=1, inplace=True)\n",
    "subway_df.head()\n"
   ]
  },
  {
   "cell_type": "code",
   "execution_count": null,
   "metadata": {},
   "outputs": [],
   "source": [
    "def hourly_for_group(entries_and_exits):\n",
    "    return entries_and_exits-entries_and_exits.shift(1)"
   ]
  },
  {
   "cell_type": "code",
   "execution_count": 359,
   "metadata": {},
   "outputs": [
    {
     "data": {
      "text/plain": [
       "<function __main__.hourly_for_group(entries_and_exits)>"
      ]
     },
     "execution_count": 359,
     "metadata": {},
     "output_type": "execute_result"
    }
   ],
   "source": [
    "hourly_for_group"
   ]
  },
  {
   "cell_type": "code",
   "execution_count": 360,
   "metadata": {},
   "outputs": [],
   "source": [
    "#ubway_df['ENTRIESn'].shift(-1,fill_value=0).head(10)"
   ]
  },
  {
   "cell_type": "code",
   "execution_count": 361,
   "metadata": {},
   "outputs": [
    {
     "name": "stdout",
     "output_type": "stream",
     "text": [
      "207\n"
     ]
    }
   ],
   "source": [
    "print(len(subway_df.station.unique()))\n",
    "#print(df.station.unique())"
   ]
  },
  {
   "cell_type": "code",
   "execution_count": 362,
   "metadata": {},
   "outputs": [],
   "source": [
    "ridership = np.array([\n",
    "    [   0,    0,    2,    5,    0],\n",
    "    [1478, 3877, 3674, 2328, 2539],\n",
    "    [1613, 4088, 3991, 6461, 2691],\n",
    "    [1560, 3392, 3826, 4787, 2613],\n",
    "    [1608, 4802, 3932, 4477, 2705],\n",
    "    [1576, 3933, 3909, 4979, 2685],\n",
    "    [  95,  229,  255,  496,  201],\n",
    "    [   2,    0,    1,   27,    0],\n",
    "    [1438, 3785, 3589, 4174, 2215],\n",
    "    [1342, 4043, 4009, 4665, 3033]\n",
    "])\n"
   ]
  },
  {
   "cell_type": "code",
   "execution_count": 363,
   "metadata": {},
   "outputs": [
    {
     "name": "stdout",
     "output_type": "stream",
     "text": [
      "3 2342.6 3239.9\n"
     ]
    }
   ],
   "source": [
    "station=ridership[0,:].argmax()\n",
    "overall_mean = ridership[:,:].mean() # Replace this with your code\n",
    "mean_for_max = ridership[:,station].mean() # Replace this with your code\n",
    "print(station, overall_mean, mean_for_max)"
   ]
  },
  {
   "cell_type": "code",
   "execution_count": 364,
   "metadata": {},
   "outputs": [
    {
     "data": {
      "text/plain": [
       "1071.2"
      ]
     },
     "execution_count": 364,
     "metadata": {},
     "output_type": "execute_result"
    }
   ],
   "source": [
    "ridership.mean(axis=0).max()\n",
    "ridership.mean(axis=0).min()"
   ]
  },
  {
   "cell_type": "code",
   "execution_count": 365,
   "metadata": {},
   "outputs": [
    {
     "data": {
      "text/plain": [
       "2342.6"
      ]
     },
     "execution_count": 365,
     "metadata": {},
     "output_type": "execute_result"
    }
   ],
   "source": [
    "overall_mean"
   ]
  },
  {
   "cell_type": "code",
   "execution_count": 366,
   "metadata": {},
   "outputs": [
    {
     "data": {
      "text/plain": [
       "3239.9"
      ]
     },
     "execution_count": 366,
     "metadata": {},
     "output_type": "execute_result"
    }
   ],
   "source": [
    "mean_for_max"
   ]
  },
  {
   "cell_type": "code",
   "execution_count": 367,
   "metadata": {},
   "outputs": [],
   "source": [
    "lt= [1478, 3877, 3674, 2328, 2539]"
   ]
  },
  {
   "cell_type": "code",
   "execution_count": 368,
   "metadata": {},
   "outputs": [
    {
     "data": {
      "text/plain": [
       "2779.2"
      ]
     },
     "execution_count": 368,
     "metadata": {},
     "output_type": "execute_result"
    }
   ],
   "source": [
    "np.mean(lt)"
   ]
  },
  {
   "cell_type": "code",
   "execution_count": 369,
   "metadata": {},
   "outputs": [],
   "source": [
    "ridership_df = pd.DataFrame(\n",
    "    data=[[   0,    0,    2,    5,    0],\n",
    "          [1478, 3877, 3674, 2328, 2539],\n",
    "          [1613, 4088, 3991, 6461, 2691],\n",
    "          [1560, 3392, 3826, 4787, 2613],\n",
    "          [1608, 4802, 3932, 4477, 2705],\n",
    "          [1576, 3933, 3909, 4979, 2685],\n",
    "          [  95,  229,  255,  496,  201],\n",
    "          [   2,    0,    1,   27,    0],\n",
    "          [1438, 3785, 3589, 4174, 2215],\n",
    "          [1342, 4043, 4009, 4665, 3033]],\n",
    "    index=['05-01-11', '05-02-11', '05-03-11', '05-04-11', '05-05-11',\n",
    "           '05-06-11', '05-07-11', '05-08-11', '05-09-11', '05-10-11'],\n",
    "    columns=['R003', 'R004', 'R005', 'R006', 'R007']\n",
    ")\n"
   ]
  },
  {
   "cell_type": "code",
   "execution_count": 370,
   "metadata": {},
   "outputs": [],
   "source": [
    "station=ridership_df.iloc[0].idxmax()\n",
    "overall_mean = ridership_df.values.mean() # Replace this with your code\n",
    "mean_for_max = ridership_df[station].mean() # Replace this with your code"
   ]
  },
  {
   "cell_type": "code",
   "execution_count": 371,
   "metadata": {},
   "outputs": [
    {
     "name": "stdout",
     "output_type": "stream",
     "text": [
      "R006 2342.6 3239.9\n"
     ]
    }
   ],
   "source": [
    "print(station, overall_mean, mean_for_max)"
   ]
  },
  {
   "cell_type": "code",
   "execution_count": 372,
   "metadata": {},
   "outputs": [
    {
     "name": "stdout",
     "output_type": "stream",
     "text": [
      "0.03564851577223041\n",
      "-0.026693348321569912\n",
      "-0.22903432340833663\n",
      "0.5858954707662182\n"
     ]
    }
   ],
   "source": [
    "def standardize_data(x):\n",
    "    return (x-x.mean())/x.std(ddof=0)\n",
    "\n",
    "def correlation(x, y):\n",
    "    return (standardize_data(x)*standardize_data(y)).mean()\n",
    "\n",
    "entries = subway_df['ENTRIESn_hourly']\n",
    "cum_entries = subway_df['ENTRIESn']\n",
    "rain = subway_df['meanprecipi']\n",
    "temp = subway_df['meantempi']\n",
    "\n",
    "print(correlation(entries, rain))\n",
    "print(correlation(entries, temp))\n",
    "print(correlation(rain, temp))\n",
    "print(correlation(entries, cum_entries))\n",
    "\n",
    "\n",
    "# result -> 0-0.2: weak corr, 0.3-0.6: Moderate corr, 0.7-1: Strong corr\n",
    "# doc: https://pythonfordatascience.org/correlation-python/#assumptions\n",
    "#x = pd.Series([1, 2, 3, 4])\n",
    "#y = pd.Series([10, 11, 12, 13])\n",
    "#print(correlation(x, y)) # answer schould be 1\n",
    "\n"
   ]
  },
  {
   "cell_type": "code",
   "execution_count": 373,
   "metadata": {},
   "outputs": [
    {
     "data": {
      "text/plain": [
       "array([[ 1.        ,  0.99535001, -0.9805214 ],\n",
       "       [ 0.99535001,  1.        , -0.97172394],\n",
       "       [-0.9805214 , -0.97172394,  1.        ]])"
      ]
     },
     "execution_count": 373,
     "metadata": {},
     "output_type": "execute_result"
    }
   ],
   "source": [
    "a = np.array([1,2,3,4,6,7,8,9])\n",
    "b = np.array([2,4,6,8,10,12,13,15])\n",
    "c = np.array([-1,-2,-2,-3,-4,-6,-7,-8])\n",
    "np.corrcoef([a,b,c])\n"
   ]
  },
  {
   "cell_type": "code",
   "execution_count": 374,
   "metadata": {},
   "outputs": [],
   "source": [
    "def find_pearson_correlation(var='EXITSn',min_r=0.5):\n",
    "    ''' returns a list of correlation for a given var\n",
    "    inputs:\n",
    "        - Var (string) : variable that is investigated\n",
    "        - min_r (float) : min r pearson for coorelation to be relevant\n",
    "    returns:\n",
    "        - list of correlation and associated   r pearson\n",
    "    default input\n",
    "        - var = 'EXITSn'\n",
    "        - min_r=0.6\n",
    "    examples:\n",
    "        - find_pearson_correlation() #for default value\n",
    "        - find_pearson_correlation('EXITSn',0.7)\n",
    "        - find_pearson_correlation('EXITSn',0.5)\n",
    "        \n",
    "        \n",
    "    ''' \n",
    "    if type(var)!=str:\n",
    "        print('the variable must be between \" \" or ' ' and be a string')\n",
    "    else:\n",
    "        # determine the r_pearson coorelation matrix\n",
    "        corr_pearson=subway_df.corr(method='pearson')\n",
    "        # get correlation at min_r\n",
    "        my_strong_corr={} \n",
    "        for col in corr_pearson.columns:\n",
    "            for row in corr_pearson.index:\n",
    "                if row==col:\n",
    "                    break\n",
    "                else:\n",
    "                    if abs(corr_pearson.loc[row, col])>=min_r and abs(corr_pearson.loc[row, col])<1:\n",
    "                        corr=(row,col)\n",
    "                        my_strong_corr[corr]=round(corr_pearson.loc[row, col],6)\n",
    "                        \n",
    "         # get the correlation involving the given var               \n",
    "        my_corr=[]\n",
    "        for i in range(len(list(my_strong_corr.keys()))):\n",
    "            if var in list(my_strong_corr.keys())[i]:\n",
    "                my_corr.append(list(my_strong_corr.keys())[i])\n",
    "                \n",
    "        my_related_corr={}\n",
    "        for corr in my_corr:\n",
    "            my_related_corr[corr]=my_strong_corr[corr]\n",
    "        return my_related_corr\n",
    "            "
   ]
  },
  {
   "cell_type": "code",
   "execution_count": 375,
   "metadata": {},
   "outputs": [
    {
     "data": {
      "text/plain": [
       "{('ENTRIESn', 'EXITSn'): 0.924739,\n",
       " ('EXITSn', 'ENTRIESn_hourly'): 0.552648,\n",
       " ('EXITSn', 'EXITSn_hourly'): 0.58213}"
      ]
     },
     "execution_count": 375,
     "metadata": {},
     "output_type": "execute_result"
    }
   ],
   "source": [
    "find_pearson_correlation()"
   ]
  },
  {
   "cell_type": "code",
   "execution_count": 376,
   "metadata": {},
   "outputs": [
    {
     "data": {
      "text/plain": [
       "{('ENTRIESn', 'EXITSn'): 0.925,\n",
       " ('ENTRIESn', 'ENTRIESn_hourly'): 0.586,\n",
       " ('EXITSn', 'ENTRIESn_hourly'): 0.553,\n",
       " ('ENTRIESn', 'EXITSn_hourly'): 0.531,\n",
       " ('EXITSn', 'EXITSn_hourly'): 0.582,\n",
       " ('ENTRIESn_hourly', 'EXITSn_hourly'): 0.64,\n",
       " ('day_week', 'weekday'): -0.806,\n",
       " ('precipi', 'meanprecipi'): 0.633,\n",
       " ('rain', 'meanprecipi'): 0.524,\n",
       " ('pressurei', 'meanpressurei'): 0.951,\n",
       " ('tempi', 'meantempi'): 0.821,\n",
       " ('longitude', 'meanwspdi'): 0.502,\n",
       " ('wspdi', 'meanwspdi'): 0.705,\n",
       " ('latitude', 'weather_lat'): 0.974,\n",
       " ('longitude', 'weather_lon'): 0.953}"
      ]
     },
     "execution_count": 376,
     "metadata": {},
     "output_type": "execute_result"
    }
   ],
   "source": [
    "corr_mat=subway_df.corr(method='pearson')\n",
    "my_strong_corr={} \n",
    "for col in corr_mat.columns:\n",
    "    for row in corr_mat.index:\n",
    "        if row==col:\n",
    "            break\n",
    "        else:\n",
    "            if abs(corr_mat.loc[row, col])>=0.5:\n",
    "                corr=(row,col)\n",
    "                my_strong_corr[corr]=round(corr_mat.loc[row, col],3)\n",
    "my_strong_corr"
   ]
  },
  {
   "cell_type": "code",
   "execution_count": 377,
   "metadata": {},
   "outputs": [
    {
     "data": {
      "text/plain": [
       "Index(['UNIT', 'DATEn', 'TIMEn', 'ENTRIESn', 'EXITSn', 'ENTRIESn_hourly',\n",
       "       'EXITSn_hourly', 'datetime', 'hour', 'day_week', 'weekday', 'station',\n",
       "       'latitude', 'longitude', 'conds', 'fog', 'precipi', 'pressurei', 'rain',\n",
       "       'tempi', 'wspdi', 'meanprecipi', 'meanpressurei', 'meantempi',\n",
       "       'meanwspdi', 'weather_lat', 'weather_lon'],\n",
       "      dtype='object')"
      ]
     },
     "execution_count": 377,
     "metadata": {},
     "output_type": "execute_result"
    }
   ],
   "source": [
    "len(subway_df.columns)\n",
    "subway_df.columns"
   ]
  },
  {
   "cell_type": "code",
   "execution_count": 378,
   "metadata": {},
   "outputs": [
    {
     "data": {
      "text/plain": [
       "{('ENTRIESn', 'ENTRIESn_hourly'): 0.585895,\n",
       " ('EXITSn', 'ENTRIESn_hourly'): 0.552648,\n",
       " ('ENTRIESn_hourly', 'EXITSn_hourly'): 0.640267,\n",
       " ('ENTRIESn_hourly', 'hour'): 0.286798,\n",
       " ('ENTRIESn_hourly', 'day_week'): -0.094897,\n",
       " ('ENTRIESn_hourly', 'weekday'): 0.145431,\n",
       " ('ENTRIESn_hourly', 'latitude'): 0.115635,\n",
       " ('ENTRIESn_hourly', 'longitude'): -0.124047,\n",
       " ('ENTRIESn_hourly', 'fog'): -0.00859,\n",
       " ('ENTRIESn_hourly', 'precipi'): -0.027682,\n",
       " ('ENTRIESn_hourly', 'pressurei'): -0.033361,\n",
       " ('ENTRIESn_hourly', 'rain'): 0.025825,\n",
       " ('ENTRIESn_hourly', 'tempi'): 0.089596,\n",
       " ('ENTRIESn_hourly', 'wspdi'): 0.05603,\n",
       " ('ENTRIESn_hourly', 'meanprecipi'): 0.035649,\n",
       " ('ENTRIESn_hourly', 'meanpressurei'): -0.006186,\n",
       " ('ENTRIESn_hourly', 'meantempi'): -0.026693,\n",
       " ('ENTRIESn_hourly', 'meanwspdi'): -0.039724,\n",
       " ('ENTRIESn_hourly', 'weather_lat'): 0.089156,\n",
       " ('ENTRIESn_hourly', 'weather_lon'): -0.137889}"
      ]
     },
     "execution_count": 378,
     "metadata": {},
     "output_type": "execute_result"
    }
   ],
   "source": [
    "find_pearson_correlation('ENTRIESn_hourly',0.)\n"
   ]
  },
  {
   "cell_type": "code",
   "execution_count": 379,
   "metadata": {},
   "outputs": [
    {
     "data": {
      "text/plain": [
       "{('ENTRIESn', 'rain'): -0.002044,\n",
       " ('EXITSn', 'rain'): -0.003339,\n",
       " ('ENTRIESn_hourly', 'rain'): 0.025825,\n",
       " ('EXITSn_hourly', 'rain'): 0.024134,\n",
       " ('hour', 'rain'): -0.000697,\n",
       " ('day_week', 'rain'): -0.08249,\n",
       " ('weekday', 'rain'): 0.130846,\n",
       " ('latitude', 'rain'): 0.003906,\n",
       " ('longitude', 'rain'): 0.000133,\n",
       " ('fog', 'rain'): 0.144566,\n",
       " ('precipi', 'rain'): 0.331453,\n",
       " ('pressurei', 'rain'): -0.349881,\n",
       " ('rain', 'tempi'): -0.263788,\n",
       " ('rain', 'wspdi'): 0.151034,\n",
       " ('rain', 'meanprecipi'): 0.52385,\n",
       " ('rain', 'meanpressurei'): -0.367976,\n",
       " ('rain', 'meantempi'): -0.321441,\n",
       " ('rain', 'meanwspdi'): 0.214222,\n",
       " ('rain', 'weather_lat'): 0.003483,\n",
       " ('rain', 'weather_lon'): 0.000122}"
      ]
     },
     "execution_count": 379,
     "metadata": {},
     "output_type": "execute_result"
    }
   ],
   "source": [
    "find_pearson_correlation('rain',0.)"
   ]
  },
  {
   "cell_type": "code",
   "execution_count": 380,
   "metadata": {},
   "outputs": [],
   "source": [
    "grades_df = pd.DataFrame(\n",
    "    data={'exam1': [43, 81, 78, 75, 89, 70, 91, 65, 98, 87],\n",
    "          'exam2': [24, 63, 56, 56, 67, 51, 79, 46, 72, 60]},\n",
    "    index=['Andre', 'Barry', 'Chris', 'Dan', 'Emilio', \n",
    "           'Fred', 'Greta', 'Humbert', 'Ivan', 'James']\n",
    ")\n",
    "    \n",
    "def convert_grades(grades):\n",
    "    '''\n",
    "    Fill in this function to convert the given DataFrame of numerical\n",
    "    grades to letter grades. Return a new DataFrame with the converted\n",
    "    grade.\n",
    "    \n",
    "    The conversion rule is:\n",
    "        90-100 -> A\n",
    "        80-89  -> B\n",
    "        70-79  -> C\n",
    "        60-69  -> D\n",
    "        0-59   -> F\n",
    "    '''\n",
    "    def convert(grade):\n",
    "        if grade>=90:\n",
    "            new_grade='A'\n",
    "        elif grade>=80 and grade<90:\n",
    "            new_grade='B'\n",
    "        elif grade>=70 and grade<80:\n",
    "            new_grade='C'\n",
    "        elif grade>=60 and grade<70:\n",
    "            new_grade='D'\n",
    "        elif grade<60:\n",
    "            new_grade='F'\n",
    "        return new_grade\n",
    "            \n",
    "    return grades.applymap(convert)"
   ]
  },
  {
   "cell_type": "code",
   "execution_count": 381,
   "metadata": {},
   "outputs": [
    {
     "data": {
      "text/html": [
       "<div>\n",
       "<style scoped>\n",
       "    .dataframe tbody tr th:only-of-type {\n",
       "        vertical-align: middle;\n",
       "    }\n",
       "\n",
       "    .dataframe tbody tr th {\n",
       "        vertical-align: top;\n",
       "    }\n",
       "\n",
       "    .dataframe thead th {\n",
       "        text-align: right;\n",
       "    }\n",
       "</style>\n",
       "<table border=\"1\" class=\"dataframe\">\n",
       "  <thead>\n",
       "    <tr style=\"text-align: right;\">\n",
       "      <th></th>\n",
       "      <th>exam1</th>\n",
       "      <th>exam2</th>\n",
       "    </tr>\n",
       "  </thead>\n",
       "  <tbody>\n",
       "    <tr>\n",
       "      <td>Andre</td>\n",
       "      <td>F</td>\n",
       "      <td>F</td>\n",
       "    </tr>\n",
       "    <tr>\n",
       "      <td>Barry</td>\n",
       "      <td>B</td>\n",
       "      <td>D</td>\n",
       "    </tr>\n",
       "    <tr>\n",
       "      <td>Chris</td>\n",
       "      <td>C</td>\n",
       "      <td>F</td>\n",
       "    </tr>\n",
       "    <tr>\n",
       "      <td>Dan</td>\n",
       "      <td>C</td>\n",
       "      <td>F</td>\n",
       "    </tr>\n",
       "    <tr>\n",
       "      <td>Emilio</td>\n",
       "      <td>B</td>\n",
       "      <td>D</td>\n",
       "    </tr>\n",
       "    <tr>\n",
       "      <td>Fred</td>\n",
       "      <td>C</td>\n",
       "      <td>F</td>\n",
       "    </tr>\n",
       "    <tr>\n",
       "      <td>Greta</td>\n",
       "      <td>A</td>\n",
       "      <td>C</td>\n",
       "    </tr>\n",
       "    <tr>\n",
       "      <td>Humbert</td>\n",
       "      <td>D</td>\n",
       "      <td>F</td>\n",
       "    </tr>\n",
       "    <tr>\n",
       "      <td>Ivan</td>\n",
       "      <td>A</td>\n",
       "      <td>C</td>\n",
       "    </tr>\n",
       "    <tr>\n",
       "      <td>James</td>\n",
       "      <td>B</td>\n",
       "      <td>D</td>\n",
       "    </tr>\n",
       "  </tbody>\n",
       "</table>\n",
       "</div>"
      ],
      "text/plain": [
       "        exam1 exam2\n",
       "Andre       F     F\n",
       "Barry       B     D\n",
       "Chris       C     F\n",
       "Dan         C     F\n",
       "Emilio      B     D\n",
       "Fred        C     F\n",
       "Greta       A     C\n",
       "Humbert     D     F\n",
       "Ivan        A     C\n",
       "James       B     D"
      ]
     },
     "execution_count": 381,
     "metadata": {},
     "output_type": "execute_result"
    }
   ],
   "source": [
    "convert_grades(grades_df)\n"
   ]
  },
  {
   "cell_type": "code",
   "execution_count": 382,
   "metadata": {},
   "outputs": [],
   "source": [
    "def standardize_data(x):\n",
    "    return (x-x.mean())/x.std(ddof=0)"
   ]
  },
  {
   "cell_type": "code",
   "execution_count": 383,
   "metadata": {},
   "outputs": [],
   "source": [
    "import pandas as pd\n",
    "\n",
    "grades_df = pd.DataFrame(\n",
    "    data={'exam1': [43, 81, 78, 75, 89, 70, 91, 65, 98, 87],\n",
    "          'exam2': [24, 63, 56, 56, 67, 51, 79, 46, 72, 60]},\n",
    "    index=['Andre', 'Barry', 'Chris', 'Dan', 'Emilio', \n",
    "           'Fred', 'Greta', 'Humbert', 'Ivan', 'James']\n",
    ")"
   ]
  },
  {
   "cell_type": "code",
   "execution_count": 384,
   "metadata": {},
   "outputs": [
    {
     "data": {
      "text/html": [
       "<div>\n",
       "<style scoped>\n",
       "    .dataframe tbody tr th:only-of-type {\n",
       "        vertical-align: middle;\n",
       "    }\n",
       "\n",
       "    .dataframe tbody tr th {\n",
       "        vertical-align: top;\n",
       "    }\n",
       "\n",
       "    .dataframe thead th {\n",
       "        text-align: right;\n",
       "    }\n",
       "</style>\n",
       "<table border=\"1\" class=\"dataframe\">\n",
       "  <thead>\n",
       "    <tr style=\"text-align: right;\">\n",
       "      <th></th>\n",
       "      <th>exam1</th>\n",
       "      <th>exam2</th>\n",
       "    </tr>\n",
       "  </thead>\n",
       "  <tbody>\n",
       "    <tr>\n",
       "      <td>Andre</td>\n",
       "      <td>-2.315341</td>\n",
       "      <td>-2.304599</td>\n",
       "    </tr>\n",
       "    <tr>\n",
       "      <td>Barry</td>\n",
       "      <td>0.220191</td>\n",
       "      <td>0.386400</td>\n",
       "    </tr>\n",
       "    <tr>\n",
       "      <td>Chris</td>\n",
       "      <td>0.020017</td>\n",
       "      <td>-0.096600</td>\n",
       "    </tr>\n",
       "    <tr>\n",
       "      <td>Dan</td>\n",
       "      <td>-0.180156</td>\n",
       "      <td>-0.096600</td>\n",
       "    </tr>\n",
       "    <tr>\n",
       "      <td>Emilio</td>\n",
       "      <td>0.753987</td>\n",
       "      <td>0.662400</td>\n",
       "    </tr>\n",
       "    <tr>\n",
       "      <td>Fred</td>\n",
       "      <td>-0.513779</td>\n",
       "      <td>-0.441600</td>\n",
       "    </tr>\n",
       "    <tr>\n",
       "      <td>Greta</td>\n",
       "      <td>0.887436</td>\n",
       "      <td>1.490400</td>\n",
       "    </tr>\n",
       "    <tr>\n",
       "      <td>Humbert</td>\n",
       "      <td>-0.847401</td>\n",
       "      <td>-0.786600</td>\n",
       "    </tr>\n",
       "    <tr>\n",
       "      <td>Ivan</td>\n",
       "      <td>1.354508</td>\n",
       "      <td>1.007400</td>\n",
       "    </tr>\n",
       "    <tr>\n",
       "      <td>James</td>\n",
       "      <td>0.620538</td>\n",
       "      <td>0.179400</td>\n",
       "    </tr>\n",
       "  </tbody>\n",
       "</table>\n",
       "</div>"
      ],
      "text/plain": [
       "            exam1     exam2\n",
       "Andre   -2.315341 -2.304599\n",
       "Barry    0.220191  0.386400\n",
       "Chris    0.020017 -0.096600\n",
       "Dan     -0.180156 -0.096600\n",
       "Emilio   0.753987  0.662400\n",
       "Fred    -0.513779 -0.441600\n",
       "Greta    0.887436  1.490400\n",
       "Humbert -0.847401 -0.786600\n",
       "Ivan     1.354508  1.007400\n",
       "James    0.620538  0.179400"
      ]
     },
     "execution_count": 384,
     "metadata": {},
     "output_type": "execute_result"
    }
   ],
   "source": [
    "grades_df.apply(standardize_data)"
   ]
  },
  {
   "cell_type": "code",
   "execution_count": 385,
   "metadata": {},
   "outputs": [],
   "source": [
    "df = pd.DataFrame({\n",
    "    'a': [4, 5, 3, 1, 2],\n",
    "    'b': [20, 10, 40, 50, 30],\n",
    "    'c': [25, 20, 5, 15, 10]\n",
    "})\n",
    "\n",
    "def transform (col):       \n",
    "        return col.sort_values(ascending=False, inplace=False).iloc[1]\n",
    "    \n",
    "def second_largest(df):\n",
    "    '''\n",
    "    Fill in this function to return the second-largest value of each \n",
    "    column of the input DataFrame.\n",
    "    '''  \n",
    "    return df.apply(transform)"
   ]
  },
  {
   "cell_type": "code",
   "execution_count": 386,
   "metadata": {},
   "outputs": [
    {
     "data": {
      "text/plain": [
       "a     4\n",
       "b    40\n",
       "c    20\n",
       "dtype: int64"
      ]
     },
     "execution_count": 386,
     "metadata": {},
     "output_type": "execute_result"
    }
   ],
   "source": [
    "second_largest(df)"
   ]
  },
  {
   "cell_type": "code",
   "execution_count": 387,
   "metadata": {},
   "outputs": [
    {
     "data": {
      "text/plain": [
       "a    0\n",
       "b    0\n",
       "c    0\n",
       "dtype: int64"
      ]
     },
     "execution_count": 387,
     "metadata": {},
     "output_type": "execute_result"
    }
   ],
   "source": [
    "(df.max()-df).min()"
   ]
  },
  {
   "cell_type": "code",
   "execution_count": 388,
   "metadata": {},
   "outputs": [],
   "source": [
    "df[df==df.max()]=0\n"
   ]
  },
  {
   "cell_type": "code",
   "execution_count": 389,
   "metadata": {},
   "outputs": [
    {
     "data": {
      "text/plain": [
       "a     4\n",
       "b    40\n",
       "c    20\n",
       "dtype: int64"
      ]
     },
     "execution_count": 389,
     "metadata": {},
     "output_type": "execute_result"
    }
   ],
   "source": [
    "df.max()\n"
   ]
  },
  {
   "cell_type": "code",
   "execution_count": 390,
   "metadata": {},
   "outputs": [],
   "source": [
    "grades_df = pd.DataFrame(\n",
    "    data={'exam1': [43, 81, 78, 75, 89, 70, 91, 65, 98, 87],\n",
    "          'exam2': [24, 63, 56, 56, 67, 51, 79, 46, 72, 60]},\n",
    "    index=['Andre', 'Barry', 'Chris', 'Dan', 'Emilio', \n",
    "           'Fred', 'Greta', 'Humbert', 'Ivan', 'James']\n",
    ")\n",
    "\n",
    "def standardize(df):\n",
    "    '''\n",
    "    Fill in this function to standardize each column of the given\n",
    "    DataFrame. To standardize a variable, convert each value to the\n",
    "    number of standard deviations it is above or below the mean.\n",
    "    \n",
    "    This time, try to use vectorized operations instead of apply().\n",
    "    You should get the same results as you did before.\n",
    "    '''    \n",
    "    return (df-df.mean())/df.std()\n",
    "\n",
    "def standardize_rows(df):\n",
    "    '''\n",
    "    Optional: Fill in this function to standardize each row of the given\n",
    "    DataFrame. Again, try not to use apply().\n",
    "    \n",
    "    This one is more challenging than standardizing each column!\n",
    "    '''\n",
    "    return df.sub(df.mean(axis=1),axis=0).div(df.std(axis=1),axis=0)\n",
    "#print(standardize_rows(grades_df))\n",
    "#print(standardize(grades_df))"
   ]
  },
  {
   "cell_type": "code",
   "execution_count": 392,
   "metadata": {},
   "outputs": [
    {
     "name": "stdout",
     "output_type": "stream",
     "text": [
      "Populating the interactive namespace from numpy and matplotlib\n"
     ]
    },
    {
     "data": {
      "text/plain": [
       "0    1825.264907\n",
       "1    2164.836433\n",
       "2    2297.097957\n",
       "3    2317.072379\n",
       "4    2277.372294\n",
       "5    1383.901479\n",
       "6    1066.436106\n",
       "Name: ENTRIESn_hourly, dtype: float64"
      ]
     },
     "execution_count": 392,
     "metadata": {},
     "output_type": "execute_result"
    },
    {
     "data": {
      "image/png": "[encoded data removed]",
      "text/plain": [
       "<Figure size 432x288 with 1 Axes>"
      ]
     },
     "metadata": {
      "needs_background": "light"
     },
     "output_type": "display_data"
    }
   ],
   "source": [
    "a=subway_df.groupby('day_week',as_index=False).mean()['ENTRIESn_hourly']\n",
    "%pylab inline\n",
    "import seaborn as sns\n",
    "import matplotlib.pyplot as plt\n",
    "\n",
    "plt.plot(a)\n",
    "a.head(7)"
   ]
  },
  {
   "cell_type": "code",
   "execution_count": 398,
   "metadata": {},
   "outputs": [],
   "source": [
    "b=subway_df.groupby('rain')['ENTRIESn_hourly']\n",
    "\n"
   ]
  },
  {
   "cell_type": "code",
   "execution_count": 181,
   "metadata": {},
   "outputs": [],
   "source": [
    "ridership_df = pd.DataFrame({\n",
    "    'UNIT': ['R051', 'R079', 'R051', 'R079', 'R051', 'R079', 'R051', 'R079', 'R051'],\n",
    "    'TIMEn': ['00:00:00', '02:00:00', '04:00:00', '06:00:00', '08:00:00', '10:00:00', '12:00:00', '14:00:00', '16:00:00'],\n",
    "    'ENTRIESn': [3144312, 8936644, 3144335, 8936658, 3144353, 8936687, 3144424, 8936819, 3144594],\n",
    "    'EXITSn': [1088151, 13755385,  1088159, 13755393,  1088177, 13755598, 1088231, 13756191,  1088275]\n",
    "})\n",
    "\n",
    "\n",
    "def get_hourly_entries_and_exits(entries_and_exits):\n",
    "    '''\n",
    "    Fill in this function to take a DataFrame with cumulative entries\n",
    "    and exits and return a DataFrame with hourly entries and exits.\n",
    "    The hourly entries and exits should be calculated separately for\n",
    "    each station (the 'UNIT' column).\n",
    "    \n",
    "    Hint: Take a look at the `get_hourly_entries_and_exits()` function\n",
    "    you wrote in a previous quiz, DataFrame Vectorized Operations. If\n",
    "    you copy it here and rename it, you can use it and the `.apply()`\n",
    "    function to help solve this problem.\n",
    "    '''\n",
    "    \n",
    "    return entries_and_exits.groupby('UNIT')[['ENTRIESn','EXITSn']].apply(hourly_for_group)"
   ]
  },
  {
   "cell_type": "code",
   "execution_count": 182,
   "metadata": {},
   "outputs": [
    {
     "data": {
      "text/html": [
       "<div>\n",
       "<style scoped>\n",
       "    .dataframe tbody tr th:only-of-type {\n",
       "        vertical-align: middle;\n",
       "    }\n",
       "\n",
       "    .dataframe tbody tr th {\n",
       "        vertical-align: top;\n",
       "    }\n",
       "\n",
       "    .dataframe thead th {\n",
       "        text-align: right;\n",
       "    }\n",
       "</style>\n",
       "<table border=\"1\" class=\"dataframe\">\n",
       "  <thead>\n",
       "    <tr style=\"text-align: right;\">\n",
       "      <th></th>\n",
       "      <th>ENTRIESn</th>\n",
       "      <th>EXITSn</th>\n",
       "    </tr>\n",
       "  </thead>\n",
       "  <tbody>\n",
       "    <tr>\n",
       "      <td>0</td>\n",
       "      <td>NaN</td>\n",
       "      <td>NaN</td>\n",
       "    </tr>\n",
       "    <tr>\n",
       "      <td>1</td>\n",
       "      <td>NaN</td>\n",
       "      <td>NaN</td>\n",
       "    </tr>\n",
       "    <tr>\n",
       "      <td>2</td>\n",
       "      <td>23.0</td>\n",
       "      <td>8.0</td>\n",
       "    </tr>\n",
       "    <tr>\n",
       "      <td>3</td>\n",
       "      <td>14.0</td>\n",
       "      <td>8.0</td>\n",
       "    </tr>\n",
       "    <tr>\n",
       "      <td>4</td>\n",
       "      <td>18.0</td>\n",
       "      <td>18.0</td>\n",
       "    </tr>\n",
       "    <tr>\n",
       "      <td>5</td>\n",
       "      <td>29.0</td>\n",
       "      <td>205.0</td>\n",
       "    </tr>\n",
       "    <tr>\n",
       "      <td>6</td>\n",
       "      <td>71.0</td>\n",
       "      <td>54.0</td>\n",
       "    </tr>\n",
       "    <tr>\n",
       "      <td>7</td>\n",
       "      <td>132.0</td>\n",
       "      <td>593.0</td>\n",
       "    </tr>\n",
       "    <tr>\n",
       "      <td>8</td>\n",
       "      <td>170.0</td>\n",
       "      <td>44.0</td>\n",
       "    </tr>\n",
       "  </tbody>\n",
       "</table>\n",
       "</div>"
      ],
      "text/plain": [
       "   ENTRIESn  EXITSn\n",
       "0       NaN     NaN\n",
       "1       NaN     NaN\n",
       "2      23.0     8.0\n",
       "3      14.0     8.0\n",
       "4      18.0    18.0\n",
       "5      29.0   205.0\n",
       "6      71.0    54.0\n",
       "7     132.0   593.0\n",
       "8     170.0    44.0"
      ]
     },
     "execution_count": 182,
     "metadata": {},
     "output_type": "execute_result"
    }
   ],
   "source": [
    "get_hourly_entries_and_exits(ridership_df)"
   ]
  },
  {
   "cell_type": "code",
   "execution_count": 190,
   "metadata": {},
   "outputs": [],
   "source": [
    "subway_df = pd.DataFrame({\n",
    "    'UNIT': ['R003', 'R003', 'R003', 'R003', 'R003', 'R004', 'R004', 'R004',\n",
    "             'R004', 'R004'],\n",
    "    'DATEn': ['05-01-11', '05-02-11', '05-03-11', '05-04-11', '05-05-11',\n",
    "              '05-01-11', '05-02-11', '05-03-11', '05-04-11', '05-05-11'],\n",
    "    'hour': [0, 0, 0, 0, 0, 0, 0, 0, 0, 0],\n",
    "    'ENTRIESn': [ 4388333,  4388348,  4389885,  4391507,  4393043, 14656120,\n",
    "                 14656174, 14660126, 14664247, 14668301],\n",
    "    'EXITSn': [ 2911002,  2911036,  2912127,  2913223,  2914284, 14451774,\n",
    "               14451851, 14454734, 14457780, 14460818],\n",
    "    'latitude': [ 40.689945,  40.689945,  40.689945,  40.689945,  40.689945,\n",
    "                  40.69132 ,  40.69132 ,  40.69132 ,  40.69132 ,  40.69132 ],\n",
    "    'longitude': [-73.872564, -73.872564, -73.872564, -73.872564, -73.872564,\n",
    "                  -73.867135, -73.867135, -73.867135, -73.867135, -73.867135]\n",
    "})\n",
    "\n",
    "weather_df = pd.DataFrame({\n",
    "    'date': ['05-01-11', '05-01-11', '05-02-11', '05-02-11', '05-03-11',\n",
    "              '05-03-11', '05-04-11', '05-04-11', '05-05-11', '05-05-11'],\n",
    "    'hour': [0, 0, 0, 0, 0, 0, 0, 0, 0, 0],\n",
    "    'latitude': [ 40.689945,  40.69132 ,  40.689945,  40.69132 ,  40.689945,\n",
    "                  40.69132 ,  40.689945,  40.69132 ,  40.689945,  40.69132 ],\n",
    "    'longitude': [-73.872564, -73.867135, -73.872564, -73.867135, -73.872564,\n",
    "                  -73.867135, -73.872564, -73.867135, -73.872564, -73.867135],\n",
    "    'pressurei': [ 30.24,  30.24,  30.32,  30.32,  30.14,  30.14,  29.98,  29.98,\n",
    "                   30.01,  30.01],\n",
    "    'fog': [0, 0, 0, 0, 0, 0, 0, 0, 0, 0],\n",
    "    'rain': [0, 0, 0, 0, 0, 0, 0, 0, 0, 0],\n",
    "    'tempi': [ 52. ,  52. ,  48.9,  48.9,  54. ,  54. ,  57.2,  57.2,  48.9,  48.9],\n",
    "    'wspdi': [  8.1,   8.1,   6.9,   6.9,   3.5,   3.5,  15. ,  15. ,  15. ,  15. ]\n",
    "})\n",
    "\n",
    "def combine_dfs(subway_df, weather_df):\n",
    "    '''\n",
    "    Fill in this function to take 2 DataFrames, one with subway data and one with weather data,\n",
    "    and return a single dataframe with one row for each date, hour, and location. Only include\n",
    "    times and locations that have both subway data and weather data available.\n",
    "    '''\n",
    "    \n",
    "    return subway_df.merge(weather_df,left_on=['DATEn','hour','latitude','longitude'],right_on=['date','hour','latitude','longitude'],how='inner')"
   ]
  },
  {
   "cell_type": "code",
   "execution_count": 191,
   "metadata": {},
   "outputs": [
    {
     "data": {
      "text/html": [
       "<div>\n",
       "<style scoped>\n",
       "    .dataframe tbody tr th:only-of-type {\n",
       "        vertical-align: middle;\n",
       "    }\n",
       "\n",
       "    .dataframe tbody tr th {\n",
       "        vertical-align: top;\n",
       "    }\n",
       "\n",
       "    .dataframe thead th {\n",
       "        text-align: right;\n",
       "    }\n",
       "</style>\n",
       "<table border=\"1\" class=\"dataframe\">\n",
       "  <thead>\n",
       "    <tr style=\"text-align: right;\">\n",
       "      <th></th>\n",
       "      <th>UNIT</th>\n",
       "      <th>DATEn</th>\n",
       "      <th>hour</th>\n",
       "      <th>ENTRIESn</th>\n",
       "      <th>EXITSn</th>\n",
       "      <th>latitude</th>\n",
       "      <th>longitude</th>\n",
       "      <th>date</th>\n",
       "      <th>pressurei</th>\n",
       "      <th>fog</th>\n",
       "      <th>rain</th>\n",
       "      <th>tempi</th>\n",
       "      <th>wspdi</th>\n",
       "    </tr>\n",
       "  </thead>\n",
       "  <tbody>\n",
       "    <tr>\n",
       "      <td>0</td>\n",
       "      <td>R003</td>\n",
       "      <td>05-01-11</td>\n",
       "      <td>0</td>\n",
       "      <td>4388333</td>\n",
       "      <td>2911002</td>\n",
       "      <td>40.689945</td>\n",
       "      <td>-73.872564</td>\n",
       "      <td>05-01-11</td>\n",
       "      <td>30.24</td>\n",
       "      <td>0</td>\n",
       "      <td>0</td>\n",
       "      <td>52.0</td>\n",
       "      <td>8.1</td>\n",
       "    </tr>\n",
       "    <tr>\n",
       "      <td>1</td>\n",
       "      <td>R003</td>\n",
       "      <td>05-02-11</td>\n",
       "      <td>0</td>\n",
       "      <td>4388348</td>\n",
       "      <td>2911036</td>\n",
       "      <td>40.689945</td>\n",
       "      <td>-73.872564</td>\n",
       "      <td>05-02-11</td>\n",
       "      <td>30.32</td>\n",
       "      <td>0</td>\n",
       "      <td>0</td>\n",
       "      <td>48.9</td>\n",
       "      <td>6.9</td>\n",
       "    </tr>\n",
       "    <tr>\n",
       "      <td>2</td>\n",
       "      <td>R003</td>\n",
       "      <td>05-03-11</td>\n",
       "      <td>0</td>\n",
       "      <td>4389885</td>\n",
       "      <td>2912127</td>\n",
       "      <td>40.689945</td>\n",
       "      <td>-73.872564</td>\n",
       "      <td>05-03-11</td>\n",
       "      <td>30.14</td>\n",
       "      <td>0</td>\n",
       "      <td>0</td>\n",
       "      <td>54.0</td>\n",
       "      <td>3.5</td>\n",
       "    </tr>\n",
       "    <tr>\n",
       "      <td>3</td>\n",
       "      <td>R003</td>\n",
       "      <td>05-04-11</td>\n",
       "      <td>0</td>\n",
       "      <td>4391507</td>\n",
       "      <td>2913223</td>\n",
       "      <td>40.689945</td>\n",
       "      <td>-73.872564</td>\n",
       "      <td>05-04-11</td>\n",
       "      <td>29.98</td>\n",
       "      <td>0</td>\n",
       "      <td>0</td>\n",
       "      <td>57.2</td>\n",
       "      <td>15.0</td>\n",
       "    </tr>\n",
       "    <tr>\n",
       "      <td>4</td>\n",
       "      <td>R003</td>\n",
       "      <td>05-05-11</td>\n",
       "      <td>0</td>\n",
       "      <td>4393043</td>\n",
       "      <td>2914284</td>\n",
       "      <td>40.689945</td>\n",
       "      <td>-73.872564</td>\n",
       "      <td>05-05-11</td>\n",
       "      <td>30.01</td>\n",
       "      <td>0</td>\n",
       "      <td>0</td>\n",
       "      <td>48.9</td>\n",
       "      <td>15.0</td>\n",
       "    </tr>\n",
       "    <tr>\n",
       "      <td>5</td>\n",
       "      <td>R004</td>\n",
       "      <td>05-01-11</td>\n",
       "      <td>0</td>\n",
       "      <td>14656120</td>\n",
       "      <td>14451774</td>\n",
       "      <td>40.691320</td>\n",
       "      <td>-73.867135</td>\n",
       "      <td>05-01-11</td>\n",
       "      <td>30.24</td>\n",
       "      <td>0</td>\n",
       "      <td>0</td>\n",
       "      <td>52.0</td>\n",
       "      <td>8.1</td>\n",
       "    </tr>\n",
       "    <tr>\n",
       "      <td>6</td>\n",
       "      <td>R004</td>\n",
       "      <td>05-02-11</td>\n",
       "      <td>0</td>\n",
       "      <td>14656174</td>\n",
       "      <td>14451851</td>\n",
       "      <td>40.691320</td>\n",
       "      <td>-73.867135</td>\n",
       "      <td>05-02-11</td>\n",
       "      <td>30.32</td>\n",
       "      <td>0</td>\n",
       "      <td>0</td>\n",
       "      <td>48.9</td>\n",
       "      <td>6.9</td>\n",
       "    </tr>\n",
       "    <tr>\n",
       "      <td>7</td>\n",
       "      <td>R004</td>\n",
       "      <td>05-03-11</td>\n",
       "      <td>0</td>\n",
       "      <td>14660126</td>\n",
       "      <td>14454734</td>\n",
       "      <td>40.691320</td>\n",
       "      <td>-73.867135</td>\n",
       "      <td>05-03-11</td>\n",
       "      <td>30.14</td>\n",
       "      <td>0</td>\n",
       "      <td>0</td>\n",
       "      <td>54.0</td>\n",
       "      <td>3.5</td>\n",
       "    </tr>\n",
       "    <tr>\n",
       "      <td>8</td>\n",
       "      <td>R004</td>\n",
       "      <td>05-04-11</td>\n",
       "      <td>0</td>\n",
       "      <td>14664247</td>\n",
       "      <td>14457780</td>\n",
       "      <td>40.691320</td>\n",
       "      <td>-73.867135</td>\n",
       "      <td>05-04-11</td>\n",
       "      <td>29.98</td>\n",
       "      <td>0</td>\n",
       "      <td>0</td>\n",
       "      <td>57.2</td>\n",
       "      <td>15.0</td>\n",
       "    </tr>\n",
       "    <tr>\n",
       "      <td>9</td>\n",
       "      <td>R004</td>\n",
       "      <td>05-05-11</td>\n",
       "      <td>0</td>\n",
       "      <td>14668301</td>\n",
       "      <td>14460818</td>\n",
       "      <td>40.691320</td>\n",
       "      <td>-73.867135</td>\n",
       "      <td>05-05-11</td>\n",
       "      <td>30.01</td>\n",
       "      <td>0</td>\n",
       "      <td>0</td>\n",
       "      <td>48.9</td>\n",
       "      <td>15.0</td>\n",
       "    </tr>\n",
       "  </tbody>\n",
       "</table>\n",
       "</div>"
      ],
      "text/plain": [
       "   UNIT     DATEn  hour  ENTRIESn    EXITSn   latitude  longitude      date  \\\n",
       "0  R003  05-01-11     0   4388333   2911002  40.689945 -73.872564  05-01-11   \n",
       "1  R003  05-02-11     0   4388348   2911036  40.689945 -73.872564  05-02-11   \n",
       "2  R003  05-03-11     0   4389885   2912127  40.689945 -73.872564  05-03-11   \n",
       "3  R003  05-04-11     0   4391507   2913223  40.689945 -73.872564  05-04-11   \n",
       "4  R003  05-05-11     0   4393043   2914284  40.689945 -73.872564  05-05-11   \n",
       "5  R004  05-01-11     0  14656120  14451774  40.691320 -73.867135  05-01-11   \n",
       "6  R004  05-02-11     0  14656174  14451851  40.691320 -73.867135  05-02-11   \n",
       "7  R004  05-03-11     0  14660126  14454734  40.691320 -73.867135  05-03-11   \n",
       "8  R004  05-04-11     0  14664247  14457780  40.691320 -73.867135  05-04-11   \n",
       "9  R004  05-05-11     0  14668301  14460818  40.691320 -73.867135  05-05-11   \n",
       "\n",
       "   pressurei  fog  rain  tempi  wspdi  \n",
       "0      30.24    0     0   52.0    8.1  \n",
       "1      30.32    0     0   48.9    6.9  \n",
       "2      30.14    0     0   54.0    3.5  \n",
       "3      29.98    0     0   57.2   15.0  \n",
       "4      30.01    0     0   48.9   15.0  \n",
       "5      30.24    0     0   52.0    8.1  \n",
       "6      30.32    0     0   48.9    6.9  \n",
       "7      30.14    0     0   54.0    3.5  \n",
       "8      29.98    0     0   57.2   15.0  \n",
       "9      30.01    0     0   48.9   15.0  "
      ]
     },
     "execution_count": 191,
     "metadata": {},
     "output_type": "execute_result"
    }
   ],
   "source": [
    "combine_dfs(subway_df, weather_df)"
   ]
  },
  {
   "cell_type": "code",
   "execution_count": null,
   "metadata": {},
   "outputs": [],
   "source": []
  },
  {
   "cell_type": "code",
   "execution_count": null,
   "metadata": {},
   "outputs": [],
   "source": []
  },
  {
   "cell_type": "code",
   "execution_count": null,
   "metadata": {},
   "outputs": [],
   "source": []
  }
 ],
 "metadata": {
  "kernelspec": {
   "display_name": "Python 3",
   "language": "python",
   "name": "python3"
  },
  "language_info": {
   "codemirror_mode": {
    "name": "ipython",
    "version": 3
   },
   "file_extension": ".py",
   "mimetype": "text/x-python",
   "name": "python",
   "nbconvert_exporter": "python",
   "pygments_lexer": "ipython3",
   "version": "3.7.3"
  }
 },
 "nbformat": 4,
 "nbformat_minor": 2
}
