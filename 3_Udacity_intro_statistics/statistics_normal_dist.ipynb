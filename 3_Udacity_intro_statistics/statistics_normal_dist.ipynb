{
 "cells": [
  {
   "cell_type": "code",
   "execution_count": 8,
   "metadata": {},
   "outputs": [],
   "source": [
    "import numpy as np\n",
    "import matplotlib.pyplot as plt\n",
    "import seaborn as sns\n",
    "from scipy import stats\n",
    "#from scipy.stats import norm,t\n",
    "from scipy.integrate import quad\n",
    "import pandas as pd\n",
    "import csv\n",
    "\n",
    "%matplotlib inline\n"
   ]
  },
  {
   "cell_type": "code",
   "execution_count": 1,
   "metadata": {},
   "outputs": [],
   "source": [
    "def normalProbabilityDensity(x):\n",
    "    constant = 1.0 / np.sqrt(2*np.pi)\n",
    "    return(constant * np.exp((-x**2) / 2.0) )\n",
    "\n",
    "def percentile_below(z):\n",
    "    return round(quad(normalProbabilityDensity, np.NINF, z)[0],4)\n",
    "\n",
    "def percentile_between(a,b):\n",
    "    return percentile_below(b)-percentile_below(a)\n",
    "\n",
    "def percentile_above(z):\n",
    "    return round(quad(normalProbabilityDensity, z,np.Inf)[0],4)\n",
    "\n",
    "def draw_z_score(x, cond, mu, sigma, title):\n",
    "    ''' draw Z score\n",
    "    inputs:\n",
    "        x: normal distribution distribution\n",
    "        z : condition: x>1.12\n",
    "        \n",
    "    '''\n",
    "    y = stats.norm.pdf(x, mu, sigma)\n",
    "    z = x[cond]\n",
    "    plt.plot(x, y)\n",
    "    plt.fill_between(z, 0, stats.norm.pdf(z, mu, sigma))\n",
    "    plt.title(title)\n",
    "    plt.show()\n",
    "    \n",
    "def standardize(x,lst):\n",
    "    return (x-np.mean(lst))/np.std(lst,ddof=0)\n",
    "\n",
    "def z_score(x,mu,sigma):\n",
    "    return (x-mu)/sigma\n",
    "\n",
    "def standart_error(sigma,n):\n",
    "    return sigma*(n**(-1/2))\n",
    "\n",
    "def z_crit(tol):\n",
    "    for x in range(1,10000,1):\n",
    "        if percentile_between(-x*0.001,x*0.001)>=tol*0.01:\n",
    "            crit=x*0.001\n",
    "            break\n",
    "    return crit\n",
    "    \n",
    "def confidence_interval_z(mean,SE,tol):\n",
    "    print('conf interval : ',round(mean-(SE*z_crit(tol)),4),round(mean+(SE*z_crit(tol)),4))\n",
    "    print('margin of error : ',round(-((mean-(SE*z_crit(tol)))-(mean+(SE*z_crit(tol))))/2,4))\n",
    "\n",
    "def read_csv(filename):\n",
    "    with open(filename) as f:\n",
    "        list2 = [float(row.split(',')[0]) for row in f]\n",
    "    return list2\n",
    "\n",
    "def t_crit(p,dof,tails):  \n",
    "    if tails == 2:\n",
    "        #Studnt, n=999, p<0.05, 2-tail\n",
    "        ts= stats.t.ppf(1-(p/2), dof)\n",
    "    elif tails == 1:\n",
    "        #Studnt, n=999, p<0.05%, Single tail\n",
    "        ts = stats.t.ppf(1-p, dof)\n",
    "    else:\n",
    "        print('give Tail=1 or 2')      \n",
    "    return ts\n",
    "\n",
    "def find_p_from_t(dof,tails,t_sco):\n",
    "    for p_m in range (1,100000,1):\n",
    "        if round(t_crit(p_m*0.00001,dof,tails),3)==round(t_sco,3):\n",
    "            print(round(p_m*0.00001,4))\n",
    "            break\n",
    "            \n",
    "def degrees_of_freedom(n):\n",
    "    return n-1\n",
    "\n",
    "def standard_error_meam(sigma,n):\n",
    "    return sigma*(n)**(-1/2)\n",
    "\n",
    "def pooled_variance(sigma1,sigma2,n1,n2):\n",
    "    return (((n1-1)*(sigma1**2))+((n2-1)*(sigma2**2)))/(n1+n2-2)\n",
    "\n",
    "def standard_error_meam_independent(sigma1,sigma2,n1,n2):\n",
    "    return (((sigma1**2)/n1)+((sigma2**2)/(n2)))**(1/2)\n",
    "\n",
    "def t_score(x,mu,sem):\n",
    "    return (x-mu)/(sem)\n",
    "\n",
    "def cohen_d(x,mu,s):\n",
    "    return (x-mu)/(s)\n",
    "\n",
    "def margin_of_error(tcrit,sem):\n",
    "    return tcrit*sem\n",
    "\n",
    "def r_squared(t,dof):\n",
    "    return (t**2)/((t**2)+(dof))\n",
    "\n",
    "def confidence_interval_t(x,moe):\n",
    "    return(x-moe,x+moe)"
   ]
  },
  {
   "cell_type": "code",
   "execution_count": 37,
   "metadata": {},
   "outputs": [
    {
     "data": {
      "text/plain": [
       "(array([ 295.,  537.,  810., 1125., 1438., 1711., 1376., 1074.,  842.,\n",
       "         542.,  250.]),\n",
       " array([0.5       , 1.04545455, 1.59090909, 2.13636364, 2.68181818,\n",
       "        3.22727273, 3.77272727, 4.31818182, 4.86363636, 5.40909091,\n",
       "        5.95454545, 6.5       ]),\n",
       " <a list of 11 Patch objects>)"
      ]
     },
     "execution_count": 37,
     "metadata": {},
     "output_type": "execute_result"
    },
    {
     "data": {
      "image/png": "[encoded data removed]",
      "text/plain": [
       "<Figure size 432x288 with 1 Axes>"
      ]
     },
     "metadata": {
      "needs_background": "light"
     },
     "output_type": "display_data"
    }
   ],
   "source": [
    "number_of_dice_faces=6\n",
    "number_of_rolls=10000\n",
    "dice1 = np.random.randint(1,number_of_dice_faces+1,number_of_rolls)\n",
    "dice2 = np.random.randint(1,number_of_dice_faces+1,number_of_rolls)\n",
    "\n",
    "average = (dice1+dice2)/2\n",
    "plt.hist(average, bins=11, range=(0.5,6.5))\n",
    "#print(rolls,average)\n",
    "\n"
   ]
  },
  {
   "cell_type": "code",
   "execution_count": 38,
   "metadata": {},
   "outputs": [
    {
     "name": "stdout",
     "output_type": "stream",
     "text": [
      "z down = 1.25 :  0.8944\n",
      "z  up = 1 :  0.1587\n",
      "a and b  [-3,3] :  0.9974000000000001\n"
     ]
    },
    {
     "data": {
      "image/png": "[encoded data removed]",
      "text/plain": [
       "<Figure size 432x288 with 1 Axes>"
      ]
     },
     "metadata": {
      "needs_background": "light"
     },
     "output_type": "display_data"
    },
    {
     "data": {
      "image/png": "[encoded data removed]",
      "text/plain": [
       "<Figure size 432x288 with 1 Axes>"
      ]
     },
     "metadata": {
      "needs_background": "light"
     },
     "output_type": "display_data"
    }
   ],
   "source": [
    "# examples of the here above functions\n",
    "print('z down = 1.25 : ', percentile_below(1.25))\n",
    "print('z  up = 1 : ', percentile_above(1))\n",
    "print('a and b  [-3,3] : ', percentile_between(-3,3))\n",
    "\n",
    "x = np.arange(-5,5,0.001)\n",
    "z0 = -1\n",
    "draw_z_score(x, x<z0, 0, 1, 'z<-1')\n",
    "\n",
    "x = np.arange(-3,3,0.001)\n",
    "z0 = 0.75\n",
    "draw_z_score(x, (-z0 < x) & (x < z0), 0, 1, '-0.75<z<0.75')"
   ]
  },
  {
   "cell_type": "code",
   "execution_count": 39,
   "metadata": {},
   "outputs": [
    {
     "data": {
      "image/png": "[encoded data removed]",
      "text/plain": [
       "<Figure size 432x288 with 1 Axes>"
      ]
     },
     "metadata": {
      "needs_background": "light"
     },
     "output_type": "display_data"
    }
   ],
   "source": [
    "rng = np.arange(-3,3,0.001)\n",
    "normal_pdf = stats.norm.pdf(rng, 0, 1)\n",
    "plt.plot(rng, normal_pdf)\n",
    "plt.show()"
   ]
  },
  {
   "cell_type": "code",
   "execution_count": 40,
   "metadata": {},
   "outputs": [
    {
     "data": {
      "image/png": "[encoded data removed]",
      "text/plain": [
       "<Figure size 432x288 with 1 Axes>"
      ]
     },
     "metadata": {
      "needs_background": "light"
     },
     "output_type": "display_data"
    },
    {
     "data": {
      "image/png": "[encoded data removed]",
      "text/plain": [
       "<Figure size 432x288 with 1 Axes>"
      ]
     },
     "metadata": {
      "needs_background": "light"
     },
     "output_type": "display_data"
    },
    {
     "data": {
      "image/png": "[encoded data removed]",
      "text/plain": [
       "<Figure size 432x288 with 1 Axes>"
      ]
     },
     "metadata": {
      "needs_background": "light"
     },
     "output_type": "display_data"
    },
    {
     "data": {
      "image/png": "[encoded data removed]",
      "text/plain": [
       "<Figure size 432x288 with 1 Axes>"
      ]
     },
     "metadata": {
      "needs_background": "light"
     },
     "output_type": "display_data"
    }
   ],
   "source": [
    "mean,std,n=190,40,1000\n",
    "range_a=np.arange((mean-3*std),mean+3*std,(6*std)/n)\n",
    "range_b=np.arange(-3,3,1/n)\n",
    "a = np.random.normal(loc = mean, scale = std, size = n) \n",
    "b = (a-a.mean())/a.std()\n",
    "c = stats.norm.pdf(range_a,mean,std) \n",
    "d = stats.norm.pdf(range_b,0,1) \n",
    "len(range_a)\n",
    "\n",
    "plt.hist(a, bins=20)\n",
    "plt.show()\n",
    "\n",
    "plt.hist(b, bins=20)\n",
    "plt.show()\n",
    "\n",
    "plt.plot(range_a,c)\n",
    "plt.show()\n",
    "\n",
    "plt.plot(range_b,d)\n",
    "plt.show()"
   ]
  },
  {
   "cell_type": "code",
   "execution_count": 41,
   "metadata": {},
   "outputs": [
    {
     "data": {
      "image/png": "[encoded data removed]",
      "text/plain": [
       "<Figure size 432x288 with 1 Axes>"
      ]
     },
     "metadata": {
      "needs_background": "light"
     },
     "output_type": "display_data"
    },
    {
     "data": {
      "text/plain": [
       "68.26"
      ]
     },
     "execution_count": 41,
     "metadata": {},
     "output_type": "execute_result"
    }
   ],
   "source": [
    "x = np.arange(-3,3,0.001)\n",
    "z0 = 1\n",
    "draw_z_score(x, (-z0 < x) & (x < z0), 0, 1, '-0.75<z<0.75')\n",
    "percentile_between(-1,1)*100"
   ]
  },
  {
   "cell_type": "code",
   "execution_count": 42,
   "metadata": {},
   "outputs": [],
   "source": [
    "karmapoint = read_csv('Karma points per post (Lesson 6) - Sheet1.csv')"
   ]
  },
  {
   "cell_type": "code",
   "execution_count": 43,
   "metadata": {},
   "outputs": [],
   "source": [
    "mean=round(np.mean(karmapoint),1)\n",
    "std=round(np.std(karmapoint,ddof=0),1)\n",
    "n=len(karmapoint)"
   ]
  },
  {
   "cell_type": "code",
   "execution_count": 44,
   "metadata": {},
   "outputs": [
    {
     "name": "stdout",
     "output_type": "stream",
     "text": [
      "13.0 4.7 200\n"
     ]
    }
   ],
   "source": [
    "print(mean,std,n)"
   ]
  },
  {
   "cell_type": "code",
   "execution_count": 45,
   "metadata": {},
   "outputs": [
    {
     "data": {
      "image/png": "[encoded data removed]",
      "text/plain": [
       "<Figure size 432x288 with 1 Axes>"
      ]
     },
     "metadata": {
      "needs_background": "light"
     },
     "output_type": "display_data"
    },
    {
     "data": {
      "text/plain": [
       "0.0475"
      ]
     },
     "execution_count": 45,
     "metadata": {},
     "output_type": "execute_result"
    }
   ],
   "source": [
    "x = np.arange(-3,3,0.001)\n",
    "z0 = round(standardize(5,karmapoint),2)+0.01\n",
    "draw_z_score(x, x < z0, 0, 1, '-0.75<z<0.75')\n",
    "percentile_below(z0)"
   ]
  },
  {
   "cell_type": "code",
   "execution_count": 46,
   "metadata": {},
   "outputs": [
    {
     "data": {
      "image/png": "[encoded data removed]",
      "text/plain": [
       "<Figure size 432x288 with 1 Axes>"
      ]
     },
     "metadata": {
      "needs_background": "light"
     },
     "output_type": "display_data"
    },
    {
     "data": {
      "text/plain": [
       "0.0721"
      ]
     },
     "execution_count": 46,
     "metadata": {},
     "output_type": "execute_result"
    }
   ],
   "source": [
    "x = np.arange(-3,3,0.001)\n",
    "z0 = round(standardize(20,karmapoint),2)-0.02\n",
    "draw_z_score(x, x > z0, 0, 1, '-0.75<z<0.75')\n",
    "percentile_above(z0)"
   ]
  },
  {
   "cell_type": "code",
   "execution_count": 47,
   "metadata": {},
   "outputs": [
    {
     "data": {
      "text/plain": [
       "0.4713"
      ]
     },
     "execution_count": 47,
     "metadata": {},
     "output_type": "execute_result"
    }
   ],
   "source": [
    "percentile_between(round(standardize(10,karmapoint),2),round(standardize(16,karmapoint),2))"
   ]
  },
  {
   "cell_type": "code",
   "execution_count": 48,
   "metadata": {},
   "outputs": [
    {
     "data": {
      "image/png": "[encoded data removed]",
      "text/plain": [
       "<Figure size 432x288 with 1 Axes>"
      ]
     },
     "metadata": {
      "needs_background": "light"
     },
     "output_type": "display_data"
    },
    {
     "data": {
      "text/plain": [
       "0.4713"
      ]
     },
     "execution_count": 48,
     "metadata": {},
     "output_type": "execute_result"
    }
   ],
   "source": [
    "x = np.arange(-3,3,0.001)\n",
    "z0 = round(standardize(10,karmapoint),2)\n",
    "z1 = round(standardize(16,karmapoint),2)\n",
    "draw_z_score(x, (z0 < x) & (x < z1), 0, 1, '-0.75<z<0.75')\n",
    "percentile_between(z0,z1)"
   ]
  },
  {
   "cell_type": "code",
   "execution_count": 49,
   "metadata": {},
   "outputs": [
    {
     "name": "stdout",
     "output_type": "stream",
     "text": [
      "1.6500000000000001\n"
     ]
    }
   ],
   "source": [
    "for x in range(100,200,1):\n",
    "    if percentile_above(x*0.01)<=0.05:\n",
    "        print(x*0.01)\n",
    "        break"
   ]
  },
  {
   "cell_type": "code",
   "execution_count": 50,
   "metadata": {},
   "outputs": [
    {
     "data": {
      "text/html": [
       "<div>\n",
       "<style scoped>\n",
       "    .dataframe tbody tr th:only-of-type {\n",
       "        vertical-align: middle;\n",
       "    }\n",
       "\n",
       "    .dataframe tbody tr th {\n",
       "        vertical-align: top;\n",
       "    }\n",
       "\n",
       "    .dataframe thead th {\n",
       "        text-align: right;\n",
       "    }\n",
       "</style>\n",
       "<table border=\"1\" class=\"dataframe\">\n",
       "  <thead>\n",
       "    <tr style=\"text-align: right;\">\n",
       "      <th></th>\n",
       "      <th>Timestamp</th>\n",
       "      <th>What Klout score did you choose? (n=1)</th>\n",
       "      <th>What is the average Klout score? (n=5)</th>\n",
       "      <th>What is the average Klout score? (n=10)</th>\n",
       "    </tr>\n",
       "  </thead>\n",
       "  <tbody>\n",
       "    <tr>\n",
       "      <td>0</td>\n",
       "      <td>3/13/2013 3:18:11</td>\n",
       "      <td>52.7051741</td>\n",
       "      <td>33.50304859</td>\n",
       "      <td>44.91469959</td>\n",
       "    </tr>\n",
       "    <tr>\n",
       "      <td>1</td>\n",
       "      <td>3/13/2013 10:13:38</td>\n",
       "      <td>10</td>\n",
       "      <td>45.94</td>\n",
       "      <td>49.33</td>\n",
       "    </tr>\n",
       "    <tr>\n",
       "      <td>2</td>\n",
       "      <td>3/13/2013 10:56:51</td>\n",
       "      <td>45.23071077</td>\n",
       "      <td>30.99971352</td>\n",
       "      <td>40.63249312</td>\n",
       "    </tr>\n",
       "    <tr>\n",
       "      <td>3</td>\n",
       "      <td>3/13/2013 11:24:03</td>\n",
       "      <td>13.46</td>\n",
       "      <td>32.51</td>\n",
       "      <td>38.94</td>\n",
       "    </tr>\n",
       "    <tr>\n",
       "      <td>4</td>\n",
       "      <td>3/13/2013 15:03:59</td>\n",
       "      <td>45.23071077</td>\n",
       "      <td>32.94917032</td>\n",
       "      <td>36.40165489</td>\n",
       "    </tr>\n",
       "  </tbody>\n",
       "</table>\n",
       "</div>"
      ],
      "text/plain": [
       "            Timestamp What Klout score did you choose? (n=1)  \\\n",
       "0   3/13/2013 3:18:11                             52.7051741   \n",
       "1  3/13/2013 10:13:38                                     10   \n",
       "2  3/13/2013 10:56:51                            45.23071077   \n",
       "3  3/13/2013 11:24:03                                  13.46   \n",
       "4  3/13/2013 15:03:59                            45.23071077   \n",
       "\n",
       "  What is the average Klout score? (n=5)  \\\n",
       "0                            33.50304859   \n",
       "1                                  45.94   \n",
       "2                            30.99971352   \n",
       "3                                  32.51   \n",
       "4                            32.94917032   \n",
       "\n",
       "  What is the average Klout score? (n=10)  \n",
       "0                             44.91469959  \n",
       "1                                   49.33  \n",
       "2                             40.63249312  \n",
       "3                                   38.94  \n",
       "4                             36.40165489  "
      ]
     },
     "execution_count": 50,
     "metadata": {},
     "output_type": "execute_result"
    }
   ],
   "source": [
    "kscores=pd.read_csv('Sampling Distributions - Lesson 7 (Responses) - Form Responses.csv') \n",
    "kscores.head()"
   ]
  },
  {
   "cell_type": "code",
   "execution_count": 51,
   "metadata": {},
   "outputs": [],
   "source": [
    "kscores['What Klout score did you choose? (n=1)'] = pd.to_numeric(kscores['What Klout score did you choose? (n=1)'],errors='coerce')\n",
    "kscores['What is the average Klout score? (n=5)'] = pd.to_numeric(kscores['What is the average Klout score? (n=5)'],errors='coerce')\n",
    "kscores['What is the average Klout score? (n=10)'] = pd.to_numeric(kscores['What is the average Klout score? (n=10)'],errors='coerce')\n",
    "kscores.columns = ['Timestamp', '1n', '5n', '10n']"
   ]
  },
  {
   "cell_type": "code",
   "execution_count": 52,
   "metadata": {},
   "outputs": [
    {
     "data": {
      "text/html": [
       "<div>\n",
       "<style scoped>\n",
       "    .dataframe tbody tr th:only-of-type {\n",
       "        vertical-align: middle;\n",
       "    }\n",
       "\n",
       "    .dataframe tbody tr th {\n",
       "        vertical-align: top;\n",
       "    }\n",
       "\n",
       "    .dataframe thead th {\n",
       "        text-align: right;\n",
       "    }\n",
       "</style>\n",
       "<table border=\"1\" class=\"dataframe\">\n",
       "  <thead>\n",
       "    <tr style=\"text-align: right;\">\n",
       "      <th></th>\n",
       "      <th>1n</th>\n",
       "      <th>5n</th>\n",
       "      <th>10n</th>\n",
       "    </tr>\n",
       "  </thead>\n",
       "  <tbody>\n",
       "    <tr>\n",
       "      <td>count</td>\n",
       "      <td>219.000000</td>\n",
       "      <td>217.000000</td>\n",
       "      <td>2.160000e+02</td>\n",
       "    </tr>\n",
       "    <tr>\n",
       "      <td>mean</td>\n",
       "      <td>39.405519</td>\n",
       "      <td>37.524298</td>\n",
       "      <td>1.947150e+11</td>\n",
       "    </tr>\n",
       "    <tr>\n",
       "      <td>std</td>\n",
       "      <td>37.529306</td>\n",
       "      <td>8.823088</td>\n",
       "      <td>2.861715e+12</td>\n",
       "    </tr>\n",
       "    <tr>\n",
       "      <td>min</td>\n",
       "      <td>1.000000</td>\n",
       "      <td>3.000000</td>\n",
       "      <td>3.660345e+00</td>\n",
       "    </tr>\n",
       "    <tr>\n",
       "      <td>25%</td>\n",
       "      <td>22.987486</td>\n",
       "      <td>32.841362</td>\n",
       "      <td>3.382556e+01</td>\n",
       "    </tr>\n",
       "    <tr>\n",
       "      <td>50%</td>\n",
       "      <td>38.645528</td>\n",
       "      <td>38.572836</td>\n",
       "      <td>3.786049e+01</td>\n",
       "    </tr>\n",
       "    <tr>\n",
       "      <td>75%</td>\n",
       "      <td>51.518017</td>\n",
       "      <td>42.600000</td>\n",
       "      <td>4.163897e+01</td>\n",
       "    </tr>\n",
       "    <tr>\n",
       "      <td>max</td>\n",
       "      <td>537.000000</td>\n",
       "      <td>74.320000</td>\n",
       "      <td>4.205845e+13</td>\n",
       "    </tr>\n",
       "  </tbody>\n",
       "</table>\n",
       "</div>"
      ],
      "text/plain": [
       "               1n          5n           10n\n",
       "count  219.000000  217.000000  2.160000e+02\n",
       "mean    39.405519   37.524298  1.947150e+11\n",
       "std     37.529306    8.823088  2.861715e+12\n",
       "min      1.000000    3.000000  3.660345e+00\n",
       "25%     22.987486   32.841362  3.382556e+01\n",
       "50%     38.645528   38.572836  3.786049e+01\n",
       "75%     51.518017   42.600000  4.163897e+01\n",
       "max    537.000000   74.320000  4.205845e+13"
      ]
     },
     "execution_count": 52,
     "metadata": {},
     "output_type": "execute_result"
    }
   ],
   "source": [
    "kscores.head(220).describe()"
   ]
  },
  {
   "cell_type": "code",
   "execution_count": 53,
   "metadata": {},
   "outputs": [],
   "source": [
    "kscores['1n']=kscores['1n'][(kscores['1n']<100) & (kscores['1n']>0)]\n",
    "kscores['5n']=kscores['5n'][(kscores['5n']<100) & (kscores['5n']>0) ]\n",
    "kscores['10n']=kscores['10n'][(kscores['10n']<100) & (kscores['10n']>0) ]"
   ]
  },
  {
   "cell_type": "code",
   "execution_count": 54,
   "metadata": {},
   "outputs": [
    {
     "data": {
      "text/html": [
       "<div>\n",
       "<style scoped>\n",
       "    .dataframe tbody tr th:only-of-type {\n",
       "        vertical-align: middle;\n",
       "    }\n",
       "\n",
       "    .dataframe tbody tr th {\n",
       "        vertical-align: top;\n",
       "    }\n",
       "\n",
       "    .dataframe thead th {\n",
       "        text-align: right;\n",
       "    }\n",
       "</style>\n",
       "<table border=\"1\" class=\"dataframe\">\n",
       "  <thead>\n",
       "    <tr style=\"text-align: right;\">\n",
       "      <th></th>\n",
       "      <th>1n</th>\n",
       "      <th>5n</th>\n",
       "      <th>10n</th>\n",
       "    </tr>\n",
       "  </thead>\n",
       "  <tbody>\n",
       "    <tr>\n",
       "      <td>count</td>\n",
       "      <td>13099.000000</td>\n",
       "      <td>12826.000000</td>\n",
       "      <td>12741.000000</td>\n",
       "    </tr>\n",
       "    <tr>\n",
       "      <td>mean</td>\n",
       "      <td>36.859096</td>\n",
       "      <td>37.141613</td>\n",
       "      <td>37.350856</td>\n",
       "    </tr>\n",
       "    <tr>\n",
       "      <td>std</td>\n",
       "      <td>16.543376</td>\n",
       "      <td>7.855299</td>\n",
       "      <td>6.691925</td>\n",
       "    </tr>\n",
       "    <tr>\n",
       "      <td>min</td>\n",
       "      <td>0.022365</td>\n",
       "      <td>0.082800</td>\n",
       "      <td>0.050000</td>\n",
       "    </tr>\n",
       "    <tr>\n",
       "      <td>25%</td>\n",
       "      <td>22.630000</td>\n",
       "      <td>32.522500</td>\n",
       "      <td>33.964291</td>\n",
       "    </tr>\n",
       "    <tr>\n",
       "      <td>50%</td>\n",
       "      <td>39.929773</td>\n",
       "      <td>36.741698</td>\n",
       "      <td>37.826618</td>\n",
       "    </tr>\n",
       "    <tr>\n",
       "      <td>75%</td>\n",
       "      <td>50.742387</td>\n",
       "      <td>42.125804</td>\n",
       "      <td>40.812928</td>\n",
       "    </tr>\n",
       "    <tr>\n",
       "      <td>max</td>\n",
       "      <td>99.000000</td>\n",
       "      <td>98.000000</td>\n",
       "      <td>99.000000</td>\n",
       "    </tr>\n",
       "  </tbody>\n",
       "</table>\n",
       "</div>"
      ],
      "text/plain": [
       "                 1n            5n           10n\n",
       "count  13099.000000  12826.000000  12741.000000\n",
       "mean      36.859096     37.141613     37.350856\n",
       "std       16.543376      7.855299      6.691925\n",
       "min        0.022365      0.082800      0.050000\n",
       "25%       22.630000     32.522500     33.964291\n",
       "50%       39.929773     36.741698     37.826618\n",
       "75%       50.742387     42.125804     40.812928\n",
       "max       99.000000     98.000000     99.000000"
      ]
     },
     "execution_count": 54,
     "metadata": {},
     "output_type": "execute_result"
    }
   ],
   "source": [
    "kscores.describe()"
   ]
  },
  {
   "cell_type": "code",
   "execution_count": 55,
   "metadata": {},
   "outputs": [
    {
     "data": {
      "image/png": "[encoded data removed]",
      "text/plain": [
       "<Figure size 432x288 with 4 Axes>"
      ]
     },
     "metadata": {
      "needs_background": "light"
     },
     "output_type": "display_data"
    }
   ],
   "source": [
    "kscores.hist(bins=15)\n",
    "plt.show()"
   ]
  },
  {
   "cell_type": "code",
   "execution_count": 56,
   "metadata": {},
   "outputs": [
    {
     "name": "stdout",
     "output_type": "stream",
     "text": [
      "2.325\n"
     ]
    }
   ],
   "source": [
    "for x in range(1000,3000,1):\n",
    "    if percentile_between(-x*0.001,x*0.001)>=0.98:\n",
    "        print(x*0.0010)\n",
    "        break"
   ]
  },
  {
   "cell_type": "code",
   "execution_count": 57,
   "metadata": {},
   "outputs": [],
   "source": [
    "er = read_csv('Engagement ratio - Lesson 8 - Sheet1.csv')"
   ]
  },
  {
   "cell_type": "code",
   "execution_count": 58,
   "metadata": {},
   "outputs": [
    {
     "name": "stdout",
     "output_type": "stream",
     "text": [
      "0.077 0.107 0.024\n",
      "conf interval :  0.083 0.177\n",
      "margin of error :  0.047\n"
     ]
    }
   ],
   "source": [
    "mu=np.mean(er)\n",
    "sigma=np.std(er,ddof=0)\n",
    "SE=standart_error(sigma,20)\n",
    "print(round(mu,3),round(sigma,3),round(SE,3))\n",
    "confidence_interval_z(0.13,SE,95)"
   ]
  },
  {
   "cell_type": "code",
   "execution_count": 61,
   "metadata": {},
   "outputs": [],
   "source": [
    "mu=180\n",
    "x=175\n",
    "sigma=18\n",
    "n=9\n",
    "zcrit=z_crit(99)\n",
    "SE=standart_error(sigma,n)\n",
    "z=z_score(x,mu,SE)\n"
   ]
  },
  {
   "cell_type": "code",
   "execution_count": 63,
   "metadata": {},
   "outputs": [
    {
     "name": "stdout",
     "output_type": "stream",
     "text": [
      "2.573 6.0\n",
      "conf interval :  159.562 190.438\n",
      "margin of error :  15.438\n"
     ]
    }
   ],
   "source": [
    "print(zcrit,SE)\n",
    "confidence_interval_z(x,SE,99)"
   ]
  },
  {
   "cell_type": "code",
   "execution_count": 64,
   "metadata": {},
   "outputs": [
    {
     "data": {
      "text/plain": [
       "0.2023"
      ]
     },
     "execution_count": 64,
     "metadata": {},
     "output_type": "execute_result"
    }
   ],
   "source": [
    "percentile_below(z)"
   ]
  },
  {
   "cell_type": "code",
   "execution_count": 65,
   "metadata": {},
   "outputs": [
    {
     "data": {
      "text/plain": [
       "15.437999999999988"
      ]
     },
     "execution_count": 65,
     "metadata": {},
     "output_type": "execute_result"
    }
   ],
   "source": [
    "(190.438-159.562)/2"
   ]
  },
  {
   "cell_type": "code",
   "execution_count": 66,
   "metadata": {},
   "outputs": [
    {
     "data": {
      "text/plain": [
       "1.961"
      ]
     },
     "execution_count": 66,
     "metadata": {},
     "output_type": "execute_result"
    }
   ],
   "source": [
    "z_crit(95)"
   ]
  },
  {
   "cell_type": "code",
   "execution_count": 67,
   "metadata": {},
   "outputs": [
    {
     "name": "stdout",
     "output_type": "stream",
     "text": [
      "1.405\n"
     ]
    }
   ],
   "source": [
    "for x in range(1,6000,1):\n",
    "    if percentile_below(x*0.001)>=0.92:\n",
    "        print(x*0.0010)\n",
    "        break"
   ]
  },
  {
   "cell_type": "code",
   "execution_count": 68,
   "metadata": {},
   "outputs": [
    {
     "data": {
      "text/plain": [
       "-2.5854535989841323"
      ]
     },
     "execution_count": 68,
     "metadata": {},
     "output_type": "execute_result"
    }
   ],
   "source": [
    "SE=standart_error(0.64,20)\n",
    "z_score(7.13,7.5,SE)"
   ]
  },
  {
   "cell_type": "code",
   "execution_count": 70,
   "metadata": {},
   "outputs": [
    {
     "data": {
      "text/plain": [
       "3.2640000000000002"
      ]
     },
     "execution_count": 70,
     "metadata": {},
     "output_type": "execute_result"
    }
   ],
   "source": [
    "z_crit(99.9)"
   ]
  },
  {
   "cell_type": "code",
   "execution_count": 71,
   "metadata": {},
   "outputs": [
    {
     "data": {
      "text/html": [
       "<div>\n",
       "<style scoped>\n",
       "    .dataframe tbody tr th:only-of-type {\n",
       "        vertical-align: middle;\n",
       "    }\n",
       "\n",
       "    .dataframe tbody tr th {\n",
       "        vertical-align: top;\n",
       "    }\n",
       "\n",
       "    .dataframe thead th {\n",
       "        text-align: right;\n",
       "    }\n",
       "</style>\n",
       "<table border=\"1\" class=\"dataframe\">\n",
       "  <thead>\n",
       "    <tr style=\"text-align: right;\">\n",
       "      <th></th>\n",
       "      <th>Timestamp</th>\n",
       "      <th>engagement</th>\n",
       "      <th>learning</th>\n",
       "      <th>1</th>\n",
       "      <th>2</th>\n",
       "      <th>3</th>\n",
       "    </tr>\n",
       "  </thead>\n",
       "  <tbody>\n",
       "    <tr>\n",
       "      <td>0</td>\n",
       "      <td>3/14/2013 18:42:17</td>\n",
       "      <td>10.0</td>\n",
       "      <td>10.0</td>\n",
       "      <td>7.470213</td>\n",
       "      <td>6.4</td>\n",
       "      <td>1368.30000</td>\n",
       "    </tr>\n",
       "    <tr>\n",
       "      <td>1</td>\n",
       "      <td>3/14/2013 18:42:44</td>\n",
       "      <td>10.0</td>\n",
       "      <td>10.0</td>\n",
       "      <td>NaN</td>\n",
       "      <td>6.4</td>\n",
       "      <td>2.41814</td>\n",
       "    </tr>\n",
       "    <tr>\n",
       "      <td>2</td>\n",
       "      <td>3/14/2013 18:42:58</td>\n",
       "      <td>7.0</td>\n",
       "      <td>8.0</td>\n",
       "      <td>NaN</td>\n",
       "      <td>0.2</td>\n",
       "      <td>NaN</td>\n",
       "    </tr>\n",
       "    <tr>\n",
       "      <td>3</td>\n",
       "      <td>3/14/2013 18:43:15</td>\n",
       "      <td>8.0</td>\n",
       "      <td>9.0</td>\n",
       "      <td>NaN</td>\n",
       "      <td>0.3</td>\n",
       "      <td>NaN</td>\n",
       "    </tr>\n",
       "    <tr>\n",
       "      <td>4</td>\n",
       "      <td>3/14/2013 18:43:27</td>\n",
       "      <td>9.0</td>\n",
       "      <td>9.0</td>\n",
       "      <td>NaN</td>\n",
       "      <td>2.3</td>\n",
       "      <td>NaN</td>\n",
       "    </tr>\n",
       "  </tbody>\n",
       "</table>\n",
       "</div>"
      ],
      "text/plain": [
       "            Timestamp  engagement  learning          1    2           3\n",
       "0  3/14/2013 18:42:17        10.0       10.0  7.470213  6.4  1368.30000\n",
       "1  3/14/2013 18:42:44        10.0       10.0       NaN  6.4     2.41814\n",
       "2  3/14/2013 18:42:58         7.0        8.0       NaN  0.2         NaN\n",
       "3  3/14/2013 18:43:15         8.0        9.0       NaN  0.3         NaN\n",
       "4  3/14/2013 18:43:27         9.0        9.0       NaN  2.3         NaN"
      ]
     },
     "execution_count": 71,
     "metadata": {},
     "output_type": "execute_result"
    }
   ],
   "source": [
    "scores=pd.read_csv('Engagement and Learning Results - Lesson 9 - Sheet1.csv') \n",
    "scores.columns = ['Timestamp', 'engagement', 'learning ','1','2',3]\n",
    "scores.head()"
   ]
  },
  {
   "cell_type": "code",
   "execution_count": 72,
   "metadata": {},
   "outputs": [
    {
     "name": "stdout",
     "output_type": "stream",
     "text": [
      "7.470212765957447 2.412989220035441\n"
     ]
    }
   ],
   "source": [
    "mu=scores['engagement'].mean()\n",
    "sigma=scores['engagement'].std(ddof=0)\n",
    "print(mu,sigma)"
   ]
  },
  {
   "cell_type": "code",
   "execution_count": 74,
   "metadata": {},
   "outputs": [
    {
     "data": {
      "text/plain": [
       "1.961"
      ]
     },
     "execution_count": 74,
     "metadata": {},
     "output_type": "execute_result"
    }
   ],
   "source": [
    "z_crit(95)"
   ]
  },
  {
   "cell_type": "code",
   "execution_count": 75,
   "metadata": {},
   "outputs": [
    {
     "data": {
      "text/plain": [
       "2.4352640181943364"
      ]
     },
     "execution_count": 75,
     "metadata": {},
     "output_type": "execute_result"
    }
   ],
   "source": [
    "SE=standart_error(2.41,50)\n",
    "z_score(8.3,7.47,SE)"
   ]
  },
  {
   "cell_type": "code",
   "execution_count": 76,
   "metadata": {},
   "outputs": [
    {
     "data": {
      "text/plain": [
       "2.4352640181943364"
      ]
     },
     "execution_count": 76,
     "metadata": {},
     "output_type": "execute_result"
    }
   ],
   "source": [
    "z_score(8.3,7.47,SE)"
   ]
  },
  {
   "cell_type": "code",
   "execution_count": 78,
   "metadata": {},
   "outputs": [
    {
     "data": {
      "text/plain": [
       "1.961"
      ]
     },
     "execution_count": 78,
     "metadata": {},
     "output_type": "execute_result"
    }
   ],
   "source": [
    "z_crit(95)"
   ]
  },
  {
   "cell_type": "code",
   "execution_count": 79,
   "metadata": {},
   "outputs": [],
   "source": [
    "SE=standart_error(6,36)"
   ]
  },
  {
   "cell_type": "code",
   "execution_count": 80,
   "metadata": {},
   "outputs": [
    {
     "data": {
      "text/plain": [
       "1.0"
      ]
     },
     "execution_count": 80,
     "metadata": {},
     "output_type": "execute_result"
    }
   ],
   "source": [
    "SE"
   ]
  },
  {
   "cell_type": "code",
   "execution_count": 82,
   "metadata": {},
   "outputs": [
    {
     "name": "stdout",
     "output_type": "stream",
     "text": [
      "102.85912696499032 16.964950524944058\n",
      "conf interval :  9375.3435 9904.6565\n",
      "margin of error :  264.6565\n"
     ]
    }
   ],
   "source": [
    "mu=7895\n",
    "sigma=230\n",
    "x=9640\n",
    "n=5\n",
    "SE=standart_error(sigma,n)\n",
    "z=z_score(x,mu,SE)\n",
    "print(SE,z)\n",
    "confidence_interval_z(x,SE,99)"
   ]
  },
  {
   "cell_type": "code",
   "execution_count": 83,
   "metadata": {},
   "outputs": [
    {
     "name": "stdout",
     "output_type": "stream",
     "text": [
      "conf interval :  35.1365 48.8635\n",
      "margin of error :  6.8635\n",
      "3.5 -0.8571428571428571\n"
     ]
    }
   ],
   "source": [
    "mu=45\n",
    "sigma=14\n",
    "x=42\n",
    "n=16\n",
    "SE=standart_error(sigma,n)\n",
    "confidence_interval_z(x,SE,95)\n",
    "z=z_score(x,mu,SE)\n",
    "print(SE,z)"
   ]
  },
  {
   "cell_type": "code",
   "execution_count": 84,
   "metadata": {},
   "outputs": [
    {
     "data": {
      "text/plain": [
       "3.182"
      ]
     },
     "execution_count": 84,
     "metadata": {},
     "output_type": "execute_result"
    }
   ],
   "source": [
    "round(t_crit(0.025,3,1),3)"
   ]
  },
  {
   "cell_type": "code",
   "execution_count": 89,
   "metadata": {},
   "outputs": [
    {
     "name": "stdout",
     "output_type": "stream",
     "text": [
      "0.025\n"
     ]
    }
   ],
   "source": [
    "find_p_from_t(3,1,3.182)"
   ]
  },
  {
   "cell_type": "code",
   "execution_count": 90,
   "metadata": {},
   "outputs": [
    {
     "data": {
      "text/plain": [
       "0.685"
      ]
     },
     "execution_count": 90,
     "metadata": {},
     "output_type": "execute_result"
    }
   ],
   "source": [
    "round(t_crit(0.25,24,1),3)"
   ]
  },
  {
   "cell_type": "code",
   "execution_count": 91,
   "metadata": {},
   "outputs": [
    {
     "name": "stdout",
     "output_type": "stream",
     "text": [
      "0.2498\n"
     ]
    }
   ],
   "source": [
    "find_p_from_t(24,1,0.685)"
   ]
  },
  {
   "cell_type": "code",
   "execution_count": 92,
   "metadata": {},
   "outputs": [],
   "source": [
    "bw = read_csv('Finches - Lesson 10 - Sheet1.csv')"
   ]
  },
  {
   "cell_type": "code",
   "execution_count": 94,
   "metadata": {},
   "outputs": [
    {
     "name": "stdout",
     "output_type": "stream",
     "text": [
      "500 6.469600000000001 0.3961182390633348 1.0087897011379698\n"
     ]
    }
   ],
   "source": [
    "mu=6.07\n",
    "n=len(bw)\n",
    "mean=np.mean(bw)\n",
    "sig=np.std(bw,ddof=1)\n",
    "t=t_score(mean,mu,sig)\n",
    "print(n,mean,sig,t)"
   ]
  },
  {
   "cell_type": "code",
   "execution_count": 95,
   "metadata": {},
   "outputs": [
    {
     "name": "stdout",
     "output_type": "stream",
     "text": [
      "1.0087897011379698\n"
     ]
    }
   ],
   "source": [
    "print(t)"
   ]
  },
  {
   "cell_type": "code",
   "execution_count": 96,
   "metadata": {},
   "outputs": [
    {
     "name": "stdout",
     "output_type": "stream",
     "text": [
      "8 12.625 8.120269423498465 7.595816517756901 0.346\n"
     ]
    }
   ],
   "source": [
    "lst=[5,19,11,23,12,7,3,21]\n",
    "mu=10\n",
    "n=len(lst)\n",
    "mean=np.mean(lst)\n",
    "sig=np.std(lst,ddof=1)\n",
    "s=(((sig*sig)*n)/(n-1))**(1/2)\n",
    "t=t_score(mean,mu,sig)\n",
    "print(n,mean,s,sig,round(t,3))"
   ]
  },
  {
   "cell_type": "code",
   "execution_count": 97,
   "metadata": {},
   "outputs": [
    {
     "name": "stdout",
     "output_type": "stream",
     "text": [
      "0.357\n"
     ]
    }
   ],
   "source": [
    "find_p_from_t(8,2,0.977)"
   ]
  },
  {
   "cell_type": "code",
   "execution_count": 98,
   "metadata": {},
   "outputs": [
    {
     "data": {
      "text/plain": [
       "0.9690519356569852"
      ]
     },
     "execution_count": 98,
     "metadata": {},
     "output_type": "execute_result"
    }
   ],
   "source": [
    "t_crit(0.3609,8,2)"
   ]
  },
  {
   "cell_type": "code",
   "execution_count": 99,
   "metadata": {},
   "outputs": [
    {
     "name": "stdout",
     "output_type": "stream",
     "text": [
      "0.357\n"
     ]
    }
   ],
   "source": [
    "for p_m in range (1,100000,1):\n",
    "    if round(t_crit(p_m*0.00001,8,2),3)==0.977:\n",
    "        print(round(p_m*0.00001,4))\n",
    "        break"
   ]
  },
  {
   "cell_type": "code",
   "execution_count": 101,
   "metadata": {},
   "outputs": [
    {
     "name": "stdout",
     "output_type": "stream",
     "text": [
      "100 1700 20.0 200 -6.5 -0.65\n"
     ]
    }
   ],
   "source": [
    "mu=1830\n",
    "n=100\n",
    "mean=1700\n",
    "sig=200\n",
    "s=standard_error_meam(sig,n)\n",
    "t=t_score(mean,mu,s)\n",
    "d=cohen_d(mean,mu,sig)\n",
    "print(n,mean,s,sig,round(t,3),d)"
   ]
  },
  {
   "cell_type": "code",
   "execution_count": 102,
   "metadata": {},
   "outputs": [],
   "source": [
    "tcrit=t_crit(0.05,25,2)"
   ]
  },
  {
   "cell_type": "code",
   "execution_count": 103,
   "metadata": {},
   "outputs": [
    {
     "data": {
      "text/plain": [
       "(1658.8092289449341, 1741.1907710550659)"
      ]
     },
     "execution_count": 103,
     "metadata": {},
     "output_type": "execute_result"
    }
   ],
   "source": [
    "moe=margin_of_error(tcrit,s)\n",
    "confidence_interval_t(mean,moe)"
   ]
  },
  {
   "cell_type": "code",
   "execution_count": 104,
   "metadata": {},
   "outputs": [],
   "source": [
    "tcrit=t_crit(0.05,100,2)"
   ]
  },
  {
   "cell_type": "code",
   "execution_count": 105,
   "metadata": {},
   "outputs": [
    {
     "data": {
      "text/plain": [
       "(1660.3205696310074, 1739.6794303689926)"
      ]
     },
     "execution_count": 105,
     "metadata": {},
     "output_type": "execute_result"
    }
   ],
   "source": [
    "moe=margin_of_error(tcrit,s)\n",
    "confidence_interval_t(mean,moe)"
   ]
  },
  {
   "cell_type": "code",
   "execution_count": 106,
   "metadata": {},
   "outputs": [],
   "source": [
    "keybord=pd.read_csv('Keyboards - Lesson 10 - Sheet1.csv')"
   ]
  },
  {
   "cell_type": "code",
   "execution_count": 107,
   "metadata": {},
   "outputs": [
    {
     "data": {
      "text/html": [
       "<div>\n",
       "<style scoped>\n",
       "    .dataframe tbody tr th:only-of-type {\n",
       "        vertical-align: middle;\n",
       "    }\n",
       "\n",
       "    .dataframe tbody tr th {\n",
       "        vertical-align: top;\n",
       "    }\n",
       "\n",
       "    .dataframe thead th {\n",
       "        text-align: right;\n",
       "    }\n",
       "</style>\n",
       "<table border=\"1\" class=\"dataframe\">\n",
       "  <thead>\n",
       "    <tr style=\"text-align: right;\">\n",
       "      <th></th>\n",
       "      <th>qwerty</th>\n",
       "      <th>alphab</th>\n",
       "    </tr>\n",
       "  </thead>\n",
       "  <tbody>\n",
       "    <tr>\n",
       "      <td>0</td>\n",
       "      <td>6</td>\n",
       "      <td>6</td>\n",
       "    </tr>\n",
       "    <tr>\n",
       "      <td>1</td>\n",
       "      <td>6</td>\n",
       "      <td>11</td>\n",
       "    </tr>\n",
       "    <tr>\n",
       "      <td>2</td>\n",
       "      <td>2</td>\n",
       "      <td>8</td>\n",
       "    </tr>\n",
       "    <tr>\n",
       "      <td>3</td>\n",
       "      <td>7</td>\n",
       "      <td>5</td>\n",
       "    </tr>\n",
       "    <tr>\n",
       "      <td>4</td>\n",
       "      <td>8</td>\n",
       "      <td>11</td>\n",
       "    </tr>\n",
       "  </tbody>\n",
       "</table>\n",
       "</div>"
      ],
      "text/plain": [
       "   qwerty  alphab\n",
       "0       6       6\n",
       "1       6      11\n",
       "2       2       8\n",
       "3       7       5\n",
       "4       8      11"
      ]
     },
     "execution_count": 107,
     "metadata": {},
     "output_type": "execute_result"
    }
   ],
   "source": [
    "keybord.columns = ['qwerty', 'alphab']\n",
    "keybord.head()"
   ]
  },
  {
   "cell_type": "code",
   "execution_count": 109,
   "metadata": {},
   "outputs": [
    {
     "name": "stdout",
     "output_type": "stream",
     "text": [
      "n :  25 \n",
      "s :  20.0 \n",
      "t :  -0.68 \n",
      "qwerty :  5.08 2.018 \n",
      "alphab :  7.8 2.592\n"
     ]
    }
   ],
   "source": [
    "mean_q=keybord.qwerty.mean()\n",
    "mean_a=keybord.alphab.mean()\n",
    "std_q=keybord.qwerty.std(ddof=0)\n",
    "std_a=keybord.alphab.std(ddof=0)\n",
    "n=len(keybord)\n",
    "C=np.std(keybord.qwerty-keybord.alphab,ddof=1)\n",
    "SE=standard_error_meam(s,n)\n",
    "t=t_score(mean_q,mean_a,SE)\n",
    "print('n : ',n ,'\\ns : ',round(s,3),'\\nt : ',round(t,3),'\\nqwerty : ',round(mean_q,3),round(std_q,3),'\\nalphab : ',round(mean_a,3),round(std_a,3))"
   ]
  },
  {
   "cell_type": "code",
   "execution_count": 111,
   "metadata": {},
   "outputs": [
    {
     "name": "stdout",
     "output_type": "stream",
     "text": [
      "2.059538552753294 4.0\n"
     ]
    }
   ],
   "source": [
    "tcrit=t_crit(0.05,n,2)\n",
    "print(tcrit,SE)"
   ]
  },
  {
   "cell_type": "code",
   "execution_count": 112,
   "metadata": {},
   "outputs": [
    {
     "data": {
      "text/plain": [
       "-0.13599999999999998"
      ]
     },
     "execution_count": 112,
     "metadata": {},
     "output_type": "execute_result"
    }
   ],
   "source": [
    "cohen_d(mean_q,mean_a,s)"
   ]
  },
  {
   "cell_type": "code",
   "execution_count": 113,
   "metadata": {},
   "outputs": [
    {
     "data": {
      "text/plain": [
       "(-10.958154211013177, 5.518154211013177)"
      ]
     },
     "execution_count": 113,
     "metadata": {},
     "output_type": "execute_result"
    }
   ],
   "source": [
    "moe=margin_of_error(tcrit,SE)\n",
    "confidence_interval_t(mean_q-mean_a,moe)"
   ]
  },
  {
   "cell_type": "code",
   "execution_count": 115,
   "metadata": {},
   "outputs": [
    {
     "data": {
      "text/plain": [
       "0.16"
      ]
     },
     "execution_count": 115,
     "metadata": {},
     "output_type": "execute_result"
    }
   ],
   "source": [
    "r_squared(2,21)"
   ]
  },
  {
   "cell_type": "code",
   "execution_count": 145,
   "metadata": {},
   "outputs": [],
   "source": [
    "# full t-test example as in the study for dependent sample\n",
    "mu=151\n",
    "sigma=50\n",
    "#H0 : X=>151\n",
    "#Ha : X<151\n",
    "#-> one tail test in negative direction\n",
    "n=25\n",
    "dof=degrees_of_freedom(25)\n",
    "tcrit=-t_crit(0.05,dof,1) #because of direction \n",
    "sem=standard_error_meam(sigma,n)\n",
    "x=126\n",
    "t=t_score(x,mu,sem)\n",
    "d=cohen_d(x,mu,sigma)\n",
    "r_2=r_squared(t,dof)\n",
    "moe=margin_of_error(t_crit(0.05,dof,2),sem)\n",
    "ci=confidence_interval_t(x,moe)\n"
   ]
  },
  {
   "cell_type": "code",
   "execution_count": 146,
   "metadata": {},
   "outputs": [
    {
     "name": "stdout",
     "output_type": "stream",
     "text": [
      "dof: 24 \n",
      "tcrit :  -1.711 \n",
      "sem :  10.0 \n",
      "mean_diff :  -25 \n",
      "t_score :  -2.5 \n",
      "cohen_d :  -0.5 \n",
      "r² :  0.21 \n",
      "MoE :  20.64 \n",
      "CI : ( 105.36 - 146.64 )\n"
     ]
    }
   ],
   "source": [
    "print(\n",
    "    'dof:',dof,\n",
    "    '\\ntcrit : ',round(tcrit,3),\n",
    "    '\\nsem : ',round(sem,2),\n",
    "    '\\nmean_diff : ',round(x-mu,2),\n",
    "    '\\nt_score : ',round(t,2),\n",
    "    '\\ncohen_d : ',round(d,2),\n",
    "    '\\nr² : ',round(r_2,2),\n",
    "    '\\nMoE : ',round(moe,2),\n",
    "    '\\nCI : (',round(ci[0],2),'-', round(ci[1],2) ,')'\n",
    "     )"
   ]
  },
  {
   "cell_type": "code",
   "execution_count": 147,
   "metadata": {},
   "outputs": [
    {
     "data": {
      "image/png": "[encoded data removed]",
      "text/plain": [
       "<Figure size 432x288 with 1 Axes>"
      ]
     },
     "metadata": {
      "needs_background": "light"
     },
     "output_type": "display_data"
    },
    {
     "name": "stdout",
     "output_type": "stream",
     "text": [
      "t=-2.5 < tcrit=-1.711\n"
     ]
    }
   ],
   "source": [
    "y = np.arange(-4,4,0.001)\n",
    "draw_z_score(y, (tcrit  > y) , 0, 1, 't_crit<t')\n",
    "print('t=-2.5 < tcrit=-1.711')"
   ]
  },
  {
   "cell_type": "code",
   "execution_count": 148,
   "metadata": {},
   "outputs": [
    {
     "name": "stdout",
     "output_type": "stream",
     "text": [
      "0.0098\n"
     ]
    }
   ],
   "source": [
    "find_p_from_t(dof,1,-t)"
   ]
  },
  {
   "cell_type": "code",
   "execution_count": 120,
   "metadata": {},
   "outputs": [],
   "source": [
    "p=0.01\n",
    "#So the result are statistically significcant (p<alpha=0.05)"
   ]
  },
  {
   "cell_type": "code",
   "execution_count": 194,
   "metadata": {},
   "outputs": [],
   "source": [
    "# full t-test example as in the study for dependent sample\n",
    "mu=12\n",
    "sigma=2.7\n",
    "mu2=3\n",
    "sigma2=1.2\n",
    "#H0 : mu-mu2=0\n",
    "#Ha : mu-mu2>0\n",
    "#-> one tail test in positive direction\n",
    "n=1000\n",
    "dof=degrees_of_freedom(n)\n",
    "tcrit=t_crit(0.05,dof,1) #because of positive direction \n",
    "x=mu-mu2\n",
    "s=(sigma**2+sigma2**2)**(1/2)\n",
    "sem=standard_error_meam(s,n)\n",
    "t=t_score(mu,mu2,sem)\n",
    "d=cohen_d(mu,mu2,s)\n",
    "r_2=r_squared(t,dof)\n",
    "moe=margin_of_error(t_crit(0.05,dof,2),sem)\n",
    "ci=confidence_interval_t(x,moe)\n"
   ]
  },
  {
   "cell_type": "code",
   "execution_count": 195,
   "metadata": {},
   "outputs": [
    {
     "name": "stdout",
     "output_type": "stream",
     "text": [
      "dof: 999 \n",
      "tcrit :  1.646 \n",
      "x :  9 \n",
      "s :  2.95 \n",
      "sem :  0.09 \n",
      "t_score :  96.32 \n",
      "cohen_d :  3.05 \n",
      "r² :  0.9 \n",
      "MoE :  0.18 \n",
      "CI : ( 8.82 - 9.18 )\n"
     ]
    }
   ],
   "source": [
    "print(\n",
    "    'dof:',dof,\n",
    "    '\\ntcrit : ',round(tcrit,3),\n",
    "    '\\nx : ',round(x,2),\n",
    "    '\\ns : ',round(s,2),    \n",
    "    '\\nsem : ',round(sem,2),\n",
    "    '\\nt_score : ',round(t,2),\n",
    "    '\\ncohen_d : ',round(d,2),\n",
    "    '\\nr² : ',round(r_2,2),\n",
    "    '\\nMoE : ',round(moe,2),\n",
    "    '\\nCI : (',round(ci[0],2),'-', round(ci[1],2) ,')'\n",
    "     )"
   ]
  },
  {
   "cell_type": "code",
   "execution_count": 196,
   "metadata": {},
   "outputs": [
    {
     "data": {
      "image/png": "[encoded data removed]",
      "text/plain": [
       "<Figure size 432x288 with 1 Axes>"
      ]
     },
     "metadata": {
      "needs_background": "light"
     },
     "output_type": "display_data"
    },
    {
     "name": "stdout",
     "output_type": "stream",
     "text": [
      "tcrit=1.646 > t=96.321\n"
     ]
    }
   ],
   "source": [
    "y = np.arange(-4,4,0.001)\n",
    "draw_z_score(y, (tcrit  < y) , 0, 1, 't>t_crit')\n",
    "print('tcrit=1.646 > t=96.321')"
   ]
  },
  {
   "cell_type": "code",
   "execution_count": 197,
   "metadata": {},
   "outputs": [
    {
     "name": "stdout",
     "output_type": "stream",
     "text": [
      "0.4011\n"
     ]
    }
   ],
   "source": [
    "find_p_from_t(dof,1,0.25)"
   ]
  },
  {
   "cell_type": "code",
   "execution_count": 198,
   "metadata": {},
   "outputs": [],
   "source": [
    "# full t-test example as in the study for dependent sample\n",
    "mu=7.8\n",
    "#sigma=2.7\n",
    "mu2=4.8\n",
    "#sigma2=1.2\n",
    "x=mu2-mu\n",
    "s=1.33\n",
    "#s=(sigma**2+sigma2**2)**(1/2)\n",
    "#H0 : mu2-mu=0\n",
    "#Ha : mu2-mu<0\n",
    "#-> one tail test in negative direction\n",
    "n=10\n",
    "dof=degrees_of_freedom(n)\n",
    "tcrit=-t_crit(0.05,dof,1) #because of negative direction \n",
    "sem=standard_error_meam(s,n)\n",
    "t=t_score(mu2,mu,sem)\n",
    "d=cohen_d(mu2,mu,s)\n",
    "r_2=r_squared(t,dof)\n",
    "moe=margin_of_error(t_crit(0.05,dof,2),sem)\n",
    "ci=confidence_interval_t(x,moe)"
   ]
  },
  {
   "cell_type": "code",
   "execution_count": 199,
   "metadata": {},
   "outputs": [
    {
     "name": "stdout",
     "output_type": "stream",
     "text": [
      "dof: 9 \n",
      "tcrit :  -1.833 \n",
      "x :  -3.0 \n",
      "s :  1.33 \n",
      "sem :  0.42 \n",
      "t_score :  -7.13 \n",
      "cohen_d :  -2.26 \n",
      "r² :  0.85 \n",
      "MoE :  0.95 \n",
      "CI : ( -3.95 - -2.05 )\n"
     ]
    }
   ],
   "source": [
    "print(\n",
    "    'dof:',dof,\n",
    "    '\\ntcrit : ',round(tcrit,3),\n",
    "    '\\nx : ',round(x,2),\n",
    "    '\\ns : ',round(s,2),    \n",
    "    '\\nsem : ',round(sem,2),\n",
    "    '\\nt_score : ',round(t,2),\n",
    "    '\\ncohen_d : ',round(d,2),\n",
    "    '\\nr² : ',round(r_2,2),\n",
    "    '\\nMoE : ',round(moe,2),\n",
    "    '\\nCI : (',round(ci[0],2),'-', round(ci[1],2) ,')'\n",
    "     )"
   ]
  },
  {
   "cell_type": "code",
   "execution_count": 200,
   "metadata": {},
   "outputs": [
    {
     "data": {
      "image/png": "[encoded data removed]",
      "text/plain": [
       "<Figure size 432x288 with 1 Axes>"
      ]
     },
     "metadata": {
      "needs_background": "light"
     },
     "output_type": "display_data"
    },
    {
     "name": "stdout",
     "output_type": "stream",
     "text": [
      "tcrit=-1.833  > t=-7.13\n"
     ]
    }
   ],
   "source": [
    "y = np.arange(-4,4,0.001)\n",
    "draw_z_score(y, (tcrit  > y) , 0, 1, 't>t_crit')\n",
    "print('tcrit=-1.833  > t=-7.13')"
   ]
  },
  {
   "cell_type": "code",
   "execution_count": 224,
   "metadata": {},
   "outputs": [],
   "source": [
    "foodp=pd.read_csv('Food Prices - Lesson 11 - Sheet1.csv')\n",
    "foodp.columns = ['Gettysburg', 'Wilma']"
   ]
  },
  {
   "cell_type": "code",
   "execution_count": 225,
   "metadata": {},
   "outputs": [
    {
     "data": {
      "text/html": [
       "<div>\n",
       "<style scoped>\n",
       "    .dataframe tbody tr th:only-of-type {\n",
       "        vertical-align: middle;\n",
       "    }\n",
       "\n",
       "    .dataframe tbody tr th {\n",
       "        vertical-align: top;\n",
       "    }\n",
       "\n",
       "    .dataframe thead th {\n",
       "        text-align: right;\n",
       "    }\n",
       "</style>\n",
       "<table border=\"1\" class=\"dataframe\">\n",
       "  <thead>\n",
       "    <tr style=\"text-align: right;\">\n",
       "      <th></th>\n",
       "      <th>Gettysburg</th>\n",
       "      <th>Wilma</th>\n",
       "    </tr>\n",
       "  </thead>\n",
       "  <tbody>\n",
       "    <tr>\n",
       "      <td>0</td>\n",
       "      <td>9</td>\n",
       "      <td>11.0</td>\n",
       "    </tr>\n",
       "    <tr>\n",
       "      <td>1</td>\n",
       "      <td>5</td>\n",
       "      <td>10.0</td>\n",
       "    </tr>\n",
       "    <tr>\n",
       "      <td>2</td>\n",
       "      <td>6</td>\n",
       "      <td>12.0</td>\n",
       "    </tr>\n",
       "    <tr>\n",
       "      <td>3</td>\n",
       "      <td>11</td>\n",
       "      <td>9.0</td>\n",
       "    </tr>\n",
       "    <tr>\n",
       "      <td>4</td>\n",
       "      <td>8</td>\n",
       "      <td>8.0</td>\n",
       "    </tr>\n",
       "  </tbody>\n",
       "</table>\n",
       "</div>"
      ],
      "text/plain": [
       "   Gettysburg  Wilma\n",
       "0           9   11.0\n",
       "1           5   10.0\n",
       "2           6   12.0\n",
       "3          11    9.0\n",
       "4           8    8.0"
      ]
     },
     "execution_count": 225,
     "metadata": {},
     "output_type": "execute_result"
    }
   ],
   "source": [
    "foodp.head()"
   ]
  },
  {
   "cell_type": "code",
   "execution_count": 226,
   "metadata": {},
   "outputs": [
    {
     "data": {
      "text/plain": [
       "18"
      ]
     },
     "execution_count": 226,
     "metadata": {},
     "output_type": "execute_result"
    }
   ],
   "source": [
    "foodp['Gettysburg'].count()"
   ]
  },
  {
   "cell_type": "code",
   "execution_count": 238,
   "metadata": {},
   "outputs": [
    {
     "name": "stdout",
     "output_type": "stream",
     "text": [
      "n1, n2 (18, 14) \n",
      "mu1 mu2 (8.94, 11.14) \n",
      "s1 s2 (2.65, 2.18) \n",
      "dof: 30 \n",
      "tcrit :  2.042 \n",
      "sem :  0.85 \n",
      "mean_diff :  -2.2 \n",
      "t_score :  -2.58 \n",
      "cohen_d :  -0.64 \n",
      "r² :  0.18 \n",
      "MoE :  1.74 \n",
      "CI : ( 0.46 - 3.94 )\n"
     ]
    }
   ],
   "source": [
    "# full t-test example as in the study for independent sample\n",
    "n1=foodp['Gettysburg'].count()\n",
    "mu1=foodp['Gettysburg'].mean()\n",
    "sigma1=foodp['Gettysburg'].std(ddof=1) #bessel's correction apply Since they are samples\n",
    "n2=foodp['Wilma'].count()\n",
    "mu2=foodp['Wilma'].mean()\n",
    "sigma2=foodp['Wilma'].std(ddof=1) #bessel's correction apply Since they are samples\n",
    "x=mu2-mu1\n",
    "s=(sigma1**2+sigma2**2)**(1/2)\n",
    "#H0 : mu=mu2\n",
    "#Ha : mu<>mu2\n",
    "#-> 2 tail test -> no direction\n",
    "dof=degrees_of_freedom(n1+n2-1)\n",
    "tcrit=t_crit(0.05,dof,2) #because of negative direction \n",
    "sem=standard_error_meam_independent(sigma1,sigma2,n1,n2)\n",
    "t=t_score(mu1,mu2,sem)\n",
    "d=cohen_d(mu1,mu2,s)\n",
    "r_2=r_squared(t,dof)\n",
    "moe=margin_of_error(t_crit(0.05,dof,2),sem)\n",
    "ci=confidence_interval_t(x,moe)\n",
    "print(\n",
    "    'n1, n2',(n1,n2),\n",
    "    '\\nmu1 mu2',(round(mu1,2),round(mu2,2)),\n",
    "    '\\ns1 s2',(round(sigma1,2),round(sigma2,2)),\n",
    "    '\\ndof:',dof,\n",
    "    '\\ntcrit : ',round(tcrit,3),\n",
    "    '\\nsem : ',round(sem,2),\n",
    "    '\\nmean_diff : ',round(mu1-mu2,2),\n",
    "    '\\nt_score : ',round(t,2),\n",
    "    '\\ncohen_d : ',round(d,2),\n",
    "    '\\nr² : ',round(r_2,2),\n",
    "    '\\nMoE : ',round(moe,2),\n",
    "    '\\nCI : (',round(ci[0],2),'-', round(ci[1],2) ,')'\n",
    "     )"
   ]
  },
  {
   "cell_type": "code",
   "execution_count": 242,
   "metadata": {},
   "outputs": [
    {
     "name": "stdout",
     "output_type": "stream",
     "text": [
      "0.0151\n"
     ]
    }
   ],
   "source": [
    "find_p_from_t(dof,2,-t) #because only value possible for t are positive in the function"
   ]
  },
  {
   "cell_type": "code",
   "execution_count": 315,
   "metadata": {},
   "outputs": [
    {
     "name": "stdout",
     "output_type": "stream",
     "text": [
      "n1, n2 (6, 5) \n",
      "mu1 mu2 (33.5, 31.2) \n",
      "s1 s2 (8.89, 10.16) \n",
      "dof: 9 \n",
      "t_score :  0.7 \n",
      "p :  0.4 \n",
      "tcrit :  2.262 \n",
      "sem :  5.82 \n",
      "mean_diff :  2.3 \n",
      "cohen_d :  0.17 \n",
      "r² :  0.02 \n",
      "MoE :  13.16 \n",
      "CI : ( -15.46 - 10.86 )\n"
     ]
    }
   ],
   "source": [
    "# full t-test example as in the study for independent sample\n",
    "sample1=[40,36,20,32,45,28]\n",
    "n1=6\n",
    "mu1=np.mean(sample1)\n",
    "sigma1=np.std(sample1,ddof=1) #bessel's correction apply Since they are samples\n",
    "sample2=[41,39,18,23,35]\n",
    "n2=5\n",
    "mu2=np.mean(sample2)\n",
    "sigma2=np.std(sample2,ddof=1) #bessel's correction apply Since they are samples\n",
    "x=mu2-mu1\n",
    "s=(sigma1**2+sigma2**2)**(1/2)\n",
    "#H0 : mu=mu2\n",
    "#Ha : mu<>mu2\n",
    "#-> 2 tail test -> no direction\n",
    "dof=degrees_of_freedom(n1+n2-1)\n",
    "tcrit=t_crit(0.05,dof,2) #because of negative direction \n",
    "sem=standard_error_meam_independent(sigma1,sigma2,n1,n2)\n",
    "t=t_score(mu1,mu2,sem)\n",
    "p=stats.ttest_ind(sample1,sample2,axis=0, equal_var=False)[1]\n",
    "d=cohen_d(mu1,mu2,s)\n",
    "r_2=r_squared(t,dof)\n",
    "moe=margin_of_error(t_crit(0.05,dof,2),sem)\n",
    "ci=confidence_interval_t(x,moe)\n",
    "print(\n",
    "    'n1, n2',(n1,n2),\n",
    "    '\\nmu1 mu2',(round(mu1,2),round(mu2,2)),\n",
    "    '\\ns1 s2',(round(sigma1,2),round(sigma2,2)),\n",
    "    '\\ndof:',dof,\n",
    "    '\\nt_score : ',round(p,2),\n",
    "    '\\np : ',round(t,2),\n",
    "    '\\ntcrit : ',round(tcrit,3),\n",
    "    '\\nsem : ',round(sem,2),\n",
    "    '\\nmean_diff : ',round(mu1-mu2,2),\n",
    "    '\\ncohen_d : ',round(d,2),\n",
    "    '\\nr² : ',round(r_2,2),\n",
    "    '\\nMoE : ',round(moe,2),\n",
    "    '\\nCI : (',round(ci[0],2),'-', round(ci[1],2) ,')'\n",
    "     )"
   ]
  },
  {
   "cell_type": "code",
   "execution_count": 314,
   "metadata": {},
   "outputs": [
    {
     "name": "stdout",
     "output_type": "stream",
     "text": [
      "0.7017\n",
      "0.3954755449732927\n"
     ]
    }
   ],
   "source": [
    "find_p_from_t(dof,2,t)\n",
    "print(t)"
   ]
  },
  {
   "cell_type": "code",
   "execution_count": 312,
   "metadata": {},
   "outputs": [
    {
     "data": {
      "text/plain": [
       "Ttest_indResult(statistic=0.3954755449732927, pvalue=0.7027055505410766)"
      ]
     },
     "execution_count": 312,
     "metadata": {},
     "output_type": "execute_result"
    }
   ],
   "source": [
    "stats.ttest_ind(sample1,sample2,axis=0, equal_var=False)"
   ]
  },
  {
   "cell_type": "code",
   "execution_count": 316,
   "metadata": {},
   "outputs": [
    {
     "name": "stdout",
     "output_type": "stream",
     "text": [
      "n1, n2 (7, 11) \n",
      "mu1 mu2 (33.14, 18.0) \n",
      "s1 s2 (31.36, 34.27) \n",
      "dof: 16 \n",
      "t_score :  0.35 \n",
      "p :  0.96 \n",
      "tcrit :  2.12 \n",
      "sem :  15.73 \n",
      "mean_diff :  15.14 \n",
      "cohen_d :  0.33 \n",
      "r² :  0.05 \n",
      "MoE :  33.34 \n",
      "CI : ( -18.19 - 48.48 )\n"
     ]
    }
   ],
   "source": [
    "# full t-test example as in the study for independent sample\n",
    "sample1=[90,28,30,10,5,9,60]\n",
    "n1=len(sample1)\n",
    "mu1=np.mean(sample1)\n",
    "sigma1=np.std(sample1,ddof=1) #bessel's correction apply Since they are samples\n",
    "sample2=[4,120,5,3,10,3,5,13,4,10,21]\n",
    "n2=len(sample2)\n",
    "mu2=np.mean(sample2)\n",
    "sigma2=np.std(sample2,ddof=1) #bessel's correction apply Since they are samples\n",
    "x=mu1-mu2\n",
    "s=(sigma1**2+sigma2**2)**(1/2)\n",
    "#H0 : mu=mu2\n",
    "#Ha : mu<>mu2\n",
    "#-> 2 tail test -> no direction\n",
    "dof=degrees_of_freedom(n1+n2-1)\n",
    "tcrit=t_crit(0.05,dof,2) #because of negative direction \n",
    "sem=standard_error_meam_independent(sigma1,sigma2,n1,n2)\n",
    "t=t_score(mu1,mu2,sem)\n",
    "p=stats.ttest_ind(sample1,sample2,axis=0, equal_var=False)[1]\n",
    "d=cohen_d(mu1,mu2,s)\n",
    "r_2=r_squared(t,dof)\n",
    "moe=margin_of_error(t_crit(0.05,dof,2),sem)\n",
    "ci=confidence_interval_t(x,moe)\n",
    "print(\n",
    "    'n1, n2',(n1,n2),\n",
    "    '\\nmu1 mu2',(round(mu1,2),round(mu2,2)),\n",
    "    '\\ns1 s2',(round(sigma1,2),round(sigma2,2)),\n",
    "    '\\ndof:',dof,\n",
    "    '\\nt_score : ',round(p,2),\n",
    "    '\\np : ',round(t,2),\n",
    "    '\\ntcrit : ',round(tcrit,3),\n",
    "    '\\nsem : ',round(sem,2),\n",
    "    '\\nmean_diff : ',round(mu1-mu2,2),\n",
    "    '\\ncohen_d : ',round(d,2),\n",
    "    '\\nr² : ',round(r_2,2),\n",
    "    '\\nMoE : ',round(moe,2),\n",
    "    '\\nCI : (',round(ci[0],2),'-', round(ci[1],2) ,')'\n",
    "     )"
   ]
  },
  {
   "cell_type": "code",
   "execution_count": 306,
   "metadata": {},
   "outputs": [
    {
     "name": "stdout",
     "output_type": "stream",
     "text": [
      "0.3511\n",
      "0.9629743503795974\n"
     ]
    }
   ],
   "source": [
    "find_p_from_t(dof,2,0.96)\n",
    "print(t)"
   ]
  },
  {
   "cell_type": "code",
   "execution_count": 303,
   "metadata": {},
   "outputs": [
    {
     "data": {
      "text/plain": [
       "Ttest_indResult(statistic=0.9629743503795974, pvalue=0.3521290865809704)"
      ]
     },
     "execution_count": 303,
     "metadata": {},
     "output_type": "execute_result"
    }
   ],
   "source": [
    "stats.ttest_ind([90,28,30,10,5,9,60],[4,120,5,3,10,3,5,13,4,10,21],axis=0, equal_var=False)"
   ]
  },
  {
   "cell_type": "code",
   "execution_count": 359,
   "metadata": {},
   "outputs": [
    {
     "name": "stdout",
     "output_type": "stream",
     "text": [
      "n1, n2 (4, 3) \n",
      "mu1 mu2 (2.0, 6.0) \n",
      "s1 s2 (4.55, 2.65) \n",
      "dof: 5 \n",
      "pooled var :  15.2 \n",
      "sem_corr :  2.98 \n",
      "mean_diff :  -4.0 \n",
      "t_score :  -1.34 \n",
      "p :  0.21 \n",
      "tcrit :  2.571 \n",
      "cohen_d :  -0.76 \n",
      "r² :  0.27 \n",
      "MoE :  7.65 \n",
      "CI : ( -3.65 - 11.65 )\n"
     ]
    }
   ],
   "source": [
    "# full t-test example as in the study for independent sample of different size\n",
    "sample1=[5,6,1,-4]\n",
    "n1=len(sample1)\n",
    "mu1=np.mean(sample1)\n",
    "sigma1=np.std(sample1,ddof=1) #bessel's correction apply Since they are samples\n",
    "sample2=[3,7,8]\n",
    "n2=len(sample2)\n",
    "mu2=np.mean(sample2)\n",
    "sigma2=np.std(sample2,ddof=1) #bessel's correction apply Since they are samples\n",
    "x=mu2-mu1\n",
    "s=(sigma1**2+sigma2**2)**(1/2)\n",
    "#H0 : mu=mu2\n",
    "#Ha : mu<>mu2\n",
    "#-> 2 tail test -> no direction\n",
    "dof=degrees_of_freedom(n1+n2-1)\n",
    "tcrit=t_crit(0.05,dof,2) #because of negative direction \n",
    "pooled_var=pooled_variance(sigma1, sigma2, n1, n2) #used to correct the different size of sample\n",
    "pooled_sigma=pooled_var**(1/2)\n",
    "sem=standard_error_meam_independent(pooled_sigma,pooled_sigma,n1,n2)\n",
    "t=t_score(mu1,mu2,sem)\n",
    "p=stats.ttest_ind(sample1,sample2,axis=0, equal_var=False)[1]\n",
    "d=cohen_d(mu1,mu2,s)\n",
    "r_2=r_squared(t,dof)\n",
    "moe=margin_of_error(t_crit(0.05,dof,2),sem)\n",
    "ci=confidence_interval_t(x,moe)\n",
    "print(\n",
    "    'n1, n2',(n1,n2),\n",
    "    '\\nmu1 mu2',(round(mu1,2),round(mu2,2)),\n",
    "    '\\ns1 s2',(round(sigma1,2),round(sigma2,2)),\n",
    "    '\\ndof:',dof,   \n",
    "    '\\npooled var : ',round(pooled_var,3),\n",
    "    '\\nsem_corr : ',round(sem,2),\n",
    "    '\\nmean_diff : ',round(mu1-mu2,2),\n",
    "    '\\nt_score : ',round(t,2),\n",
    "    '\\np : ',round(p,2),\n",
    "    '\\ntcrit : ',round(tcrit,3),\n",
    "    '\\ncohen_d : ',round(d,2),\n",
    "    '\\nr² : ',round(r_2,2),\n",
    "    '\\nMoE : ',round(moe,2),    '\\nCI : (',round(ci[0],2),'-', round(ci[1],2) ,')'\n",
    "     )"
   ]
  },
  {
   "cell_type": "code",
   "execution_count": 2,
   "metadata": {},
   "outputs": [
    {
     "ename": "NameError",
     "evalue": "name 'np' is not defined",
     "output_type": "error",
     "traceback": [
      "\u001b[1;31m---------------------------------------------------------------------------\u001b[0m",
      "\u001b[1;31mNameError\u001b[0m                                 Traceback (most recent call last)",
      "\u001b[1;32m<ipython-input-2-77e1bd0e2d6f>\u001b[0m in \u001b[0;36m<module>\u001b[1;34m\u001b[0m\n\u001b[0;32m      2\u001b[0m \u001b[0msample1\u001b[0m\u001b[1;33m=\u001b[0m\u001b[1;33m[\u001b[0m\u001b[1;36m5\u001b[0m\u001b[1;33m,\u001b[0m\u001b[1;36m6\u001b[0m\u001b[1;33m,\u001b[0m\u001b[1;36m1\u001b[0m\u001b[1;33m,\u001b[0m\u001b[1;33m-\u001b[0m\u001b[1;36m4\u001b[0m\u001b[1;33m]\u001b[0m\u001b[1;33m\u001b[0m\u001b[1;33m\u001b[0m\u001b[0m\n\u001b[0;32m      3\u001b[0m \u001b[0mn1\u001b[0m\u001b[1;33m=\u001b[0m\u001b[0mlen\u001b[0m\u001b[1;33m(\u001b[0m\u001b[0msample1\u001b[0m\u001b[1;33m)\u001b[0m\u001b[1;33m\u001b[0m\u001b[1;33m\u001b[0m\u001b[0m\n\u001b[1;32m----> 4\u001b[1;33m \u001b[0mmu1\u001b[0m\u001b[1;33m=\u001b[0m\u001b[0mnp\u001b[0m\u001b[1;33m.\u001b[0m\u001b[0mmean\u001b[0m\u001b[1;33m(\u001b[0m\u001b[0msample1\u001b[0m\u001b[1;33m)\u001b[0m\u001b[1;33m\u001b[0m\u001b[1;33m\u001b[0m\u001b[0m\n\u001b[0m\u001b[0;32m      5\u001b[0m \u001b[0msigma1\u001b[0m\u001b[1;33m=\u001b[0m\u001b[0mnp\u001b[0m\u001b[1;33m.\u001b[0m\u001b[0mstd\u001b[0m\u001b[1;33m(\u001b[0m\u001b[0msample1\u001b[0m\u001b[1;33m,\u001b[0m\u001b[0mddof\u001b[0m\u001b[1;33m=\u001b[0m\u001b[1;36m1\u001b[0m\u001b[1;33m)\u001b[0m \u001b[1;31m#bessel's correction apply Since they are samples\u001b[0m\u001b[1;33m\u001b[0m\u001b[1;33m\u001b[0m\u001b[0m\n\u001b[0;32m      6\u001b[0m \u001b[0msample2\u001b[0m\u001b[1;33m=\u001b[0m\u001b[1;33m[\u001b[0m\u001b[1;36m3\u001b[0m\u001b[1;33m,\u001b[0m\u001b[1;36m7\u001b[0m\u001b[1;33m,\u001b[0m\u001b[1;36m8\u001b[0m\u001b[1;33m]\u001b[0m\u001b[1;33m\u001b[0m\u001b[1;33m\u001b[0m\u001b[0m\n",
      "\u001b[1;31mNameError\u001b[0m: name 'np' is not defined"
     ]
    }
   ],
   "source": [
    "# full t-test example as in the study for independent sample of different size\n",
    "sample1=[5,6,1,-4]\n",
    "n1=len(sample1)\n",
    "mu1=np.mean(sample1)\n",
    "sigma1=np.std(sample1,ddof=1) #bessel's correction apply Since they are samples\n",
    "sample2=[3,7,8]\n",
    "n2=len(sample2)\n",
    "mu2=np.mean(sample2)\n",
    "sigma2=np.std(sample2,ddof=1) #bessel's correction apply Since they are samples\n",
    "x=mu2-mu1\n",
    "s=(sigma1**2+sigma2**2)**(1/2)\n",
    "#H0 : mu=mu2\n",
    "#Ha : mu<>mu2\n",
    "#-> 2 tail test -> no direction\n",
    "dof=degrees_of_freedom(n1+n2-1)\n",
    "tcrit=t_crit(0.05,dof,2) #because of negative direction \n",
    "pooled_var=pooled_variance(sigma1, sigma2, n1, n2) #used to correct the different size of sample\n",
    "pooled_sigma=pooled_var**(1/2)\n",
    "sem=standard_error_meam_independent(pooled_sigma,pooled_sigma,n1,n2)\n",
    "t=t_score(mu1,mu2,sem)\n",
    "p=stats.ttest_ind(sample1,sample2,axis=0, equal_var=False)[1]\n",
    "d=cohen_d(mu1,mu2,s)\n",
    "r_2=r_squared(t,dof)\n",
    "moe=margin_of_error(t_crit(0.05,dof,2),sem)\n",
    "ci=confidence_interval_t(x,moe)\n",
    "print(\n",
    "    'n1, n2',(n1,n2),\n",
    "    '\\nmu1 mu2',(round(mu1,2),round(mu2,2)),\n",
    "    '\\ns1 s2',(round(sigma1,2),round(sigma2,2)),\n",
    "    '\\ndof:',dof,   \n",
    "    '\\npooled var : ',round(pooled_var,3),\n",
    "    '\\nsem_corr : ',round(sem,2),\n",
    "    '\\nmean_diff : ',round(mu1-mu2,2),\n",
    "    '\\nt_score : ',round(t,2),\n",
    "    '\\np : ',round(p,2),\n",
    "    '\\ntcrit : ',round(tcrit,3),\n",
    "    '\\ncohen_d : ',round(d,2),\n",
    "    '\\nr² : ',round(r_2,2),\n",
    "    '\\nMoE : ',round(moe,2),    '\\nCI : (',round(ci[0],2),'-', round(ci[1],2) ,')'\n",
    "     )"
   ]
  },
  {
   "cell_type": "code",
   "execution_count": 372,
   "metadata": {},
   "outputs": [],
   "source": [
    "n1=10\n",
    "n2=10\n",
    "mu1=10\n",
    "mu2=7\n",
    "dof=n1+n2-2\n",
    "sem=0.94"
   ]
  },
  {
   "cell_type": "code",
   "execution_count": 373,
   "metadata": {},
   "outputs": [
    {
     "data": {
      "text/plain": [
       "0.94"
      ]
     },
     "execution_count": 373,
     "metadata": {},
     "output_type": "execute_result"
    }
   ],
   "source": [
    "sem"
   ]
  },
  {
   "cell_type": "code",
   "execution_count": 374,
   "metadata": {},
   "outputs": [],
   "source": [
    "t=t_score(mu1,mu2,sem)"
   ]
  },
  {
   "cell_type": "code",
   "execution_count": 375,
   "metadata": {},
   "outputs": [
    {
     "data": {
      "text/plain": [
       "3.191489361702128"
      ]
     },
     "execution_count": 375,
     "metadata": {},
     "output_type": "execute_result"
    }
   ],
   "source": [
    "t"
   ]
  },
  {
   "cell_type": "code",
   "execution_count": 378,
   "metadata": {},
   "outputs": [],
   "source": [
    "tcrit=t_crit(0.05,dof,2)"
   ]
  },
  {
   "cell_type": "code",
   "execution_count": 379,
   "metadata": {},
   "outputs": [
    {
     "data": {
      "text/plain": [
       "2.10092204024096"
      ]
     },
     "execution_count": 379,
     "metadata": {},
     "output_type": "execute_result"
    }
   ],
   "source": [
    "tcrit"
   ]
  },
  {
   "cell_type": "code",
   "execution_count": 380,
   "metadata": {},
   "outputs": [
    {
     "data": {
      "text/plain": [
       "0.3613761202659729"
      ]
     },
     "execution_count": 380,
     "metadata": {},
     "output_type": "execute_result"
    }
   ],
   "source": [
    "r_squared(t,dof)"
   ]
  },
  {
   "cell_type": "code",
   "execution_count": null,
   "metadata": {},
   "outputs": [],
   "source": []
  }
 ],
 "metadata": {
  "kernelspec": {
   "display_name": "Python 3",
   "language": "python",
   "name": "python3"
  },
  "language_info": {
   "codemirror_mode": {
    "name": "ipython",
    "version": 3
   },
   "file_extension": ".py",
   "mimetype": "text/x-python",
   "name": "python",
   "nbconvert_exporter": "python",
   "pygments_lexer": "ipython3",
   "version": "3.7.3"
  }
 },
 "nbformat": 4,
 "nbformat_minor": 2
}
